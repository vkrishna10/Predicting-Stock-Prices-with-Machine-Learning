{
 "cells": [
  {
   "cell_type": "code",
   "execution_count": 1,
   "source": [
    "import pandas as pd\n",
    "import numpy as np\n",
    "import matplotlib.pyplot as plt"
   ],
   "outputs": [],
   "metadata": {}
  },
  {
   "cell_type": "code",
   "execution_count": 2,
   "source": [
    "data = pd.read_csv('openBB_Data_v3.csv')"
   ],
   "outputs": [],
   "metadata": {}
  },
  {
   "cell_type": "code",
   "execution_count": 3,
   "source": [
    "data"
   ],
   "outputs": [
    {
     "output_type": "execute_result",
     "data": {
      "text/html": [
       "<div>\n",
       "<style scoped>\n",
       "    .dataframe tbody tr th:only-of-type {\n",
       "        vertical-align: middle;\n",
       "    }\n",
       "\n",
       "    .dataframe tbody tr th {\n",
       "        vertical-align: top;\n",
       "    }\n",
       "\n",
       "    .dataframe thead th {\n",
       "        text-align: right;\n",
       "    }\n",
       "</style>\n",
       "<table border=\"1\" class=\"dataframe\">\n",
       "  <thead>\n",
       "    <tr style=\"text-align: right;\">\n",
       "      <th></th>\n",
       "      <th>Unnamed: 0</th>\n",
       "      <th>Date</th>\n",
       "      <th>filingDate</th>\n",
       "      <th>Name</th>\n",
       "      <th>totalRevenue</th>\n",
       "      <th>costofGoodsAndServicesSold</th>\n",
       "      <th>researchAndDevelopment</th>\n",
       "      <th>totalAssets</th>\n",
       "      <th>totalLiabilities</th>\n",
       "      <th>inventory</th>\n",
       "      <th>...</th>\n",
       "      <th>SP</th>\n",
       "      <th>Cons_Sent</th>\n",
       "      <th>Fin_Stress</th>\n",
       "      <th>Cash_On_Hand</th>\n",
       "      <th>Unemployment_Rate</th>\n",
       "      <th>Recession_probability</th>\n",
       "      <th>Corporate_Profits</th>\n",
       "      <th>initialPrice</th>\n",
       "      <th>finalPrice</th>\n",
       "      <th>delta</th>\n",
       "    </tr>\n",
       "  </thead>\n",
       "  <tbody>\n",
       "    <tr>\n",
       "      <th>0</th>\n",
       "      <td>0</td>\n",
       "      <td>4/29/2018</td>\n",
       "      <td>5/22/2018</td>\n",
       "      <td>NVDA</td>\n",
       "      <td>3.207000e+09</td>\n",
       "      <td>1139000000</td>\n",
       "      <td>542000000.0</td>\n",
       "      <td>1.146000e+10</td>\n",
       "      <td>3.743000e+09</td>\n",
       "      <td>7.970000e+08</td>\n",
       "      <td>...</td>\n",
       "      <td>2703.13</td>\n",
       "      <td>98.3</td>\n",
       "      <td>-0.1825</td>\n",
       "      <td>136813.0</td>\n",
       "      <td>3.9</td>\n",
       "      <td>0.10</td>\n",
       "      <td>2258.834</td>\n",
       "      <td>60.089935</td>\n",
       "      <td>61.363354</td>\n",
       "      <td>1.273418</td>\n",
       "    </tr>\n",
       "    <tr>\n",
       "      <th>1</th>\n",
       "      <td>1</td>\n",
       "      <td>7/29/2018</td>\n",
       "      <td>8/16/2018</td>\n",
       "      <td>NVDA</td>\n",
       "      <td>3.123000e+09</td>\n",
       "      <td>1148000000</td>\n",
       "      <td>581000000.0</td>\n",
       "      <td>1.288200e+10</td>\n",
       "      <td>4.087000e+09</td>\n",
       "      <td>1.090000e+09</td>\n",
       "      <td>...</td>\n",
       "      <td>2849.60</td>\n",
       "      <td>98.1</td>\n",
       "      <td>-0.6204</td>\n",
       "      <td>134561.0</td>\n",
       "      <td>3.8</td>\n",
       "      <td>0.11</td>\n",
       "      <td>2274.868</td>\n",
       "      <td>63.778820</td>\n",
       "      <td>61.400501</td>\n",
       "      <td>-2.378319</td>\n",
       "    </tr>\n",
       "    <tr>\n",
       "      <th>2</th>\n",
       "      <td>2</td>\n",
       "      <td>10/28/2018</td>\n",
       "      <td>11/15/2018</td>\n",
       "      <td>NVDA</td>\n",
       "      <td>3.181000e+09</td>\n",
       "      <td>1260000000</td>\n",
       "      <td>605000000.0</td>\n",
       "      <td>1.365700e+10</td>\n",
       "      <td>4.182000e+09</td>\n",
       "      <td>1.417000e+09</td>\n",
       "      <td>...</td>\n",
       "      <td>2698.93</td>\n",
       "      <td>98.1</td>\n",
       "      <td>-0.1487</td>\n",
       "      <td>139445.0</td>\n",
       "      <td>3.8</td>\n",
       "      <td>0.23</td>\n",
       "      <td>2295.174</td>\n",
       "      <td>50.168041</td>\n",
       "      <td>35.867950</td>\n",
       "      <td>-14.300091</td>\n",
       "    </tr>\n",
       "    <tr>\n",
       "      <th>3</th>\n",
       "      <td>3</td>\n",
       "      <td>1/27/2019</td>\n",
       "      <td>2/21/2019</td>\n",
       "      <td>NVDA</td>\n",
       "      <td>2.205000e+09</td>\n",
       "      <td>998000000</td>\n",
       "      <td>647000000.0</td>\n",
       "      <td>1.329200e+10</td>\n",
       "      <td>3.950000e+09</td>\n",
       "      <td>1.575000e+09</td>\n",
       "      <td>...</td>\n",
       "      <td>2721.00</td>\n",
       "      <td>94.5</td>\n",
       "      <td>-0.3621</td>\n",
       "      <td>123508.0</td>\n",
       "      <td>3.9</td>\n",
       "      <td>0.73</td>\n",
       "      <td>2254.933</td>\n",
       "      <td>38.650589</td>\n",
       "      <td>39.375122</td>\n",
       "      <td>0.724533</td>\n",
       "    </tr>\n",
       "    <tr>\n",
       "      <th>4</th>\n",
       "      <td>4</td>\n",
       "      <td>4/28/2019</td>\n",
       "      <td>5/16/2019</td>\n",
       "      <td>NVDA</td>\n",
       "      <td>2.220000e+09</td>\n",
       "      <td>924000000</td>\n",
       "      <td>674000000.0</td>\n",
       "      <td>1.402100e+10</td>\n",
       "      <td>4.317000e+09</td>\n",
       "      <td>1.426000e+09</td>\n",
       "      <td>...</td>\n",
       "      <td>2882.33</td>\n",
       "      <td>98.5</td>\n",
       "      <td>-0.5130</td>\n",
       "      <td>126995.0</td>\n",
       "      <td>3.6</td>\n",
       "      <td>0.47</td>\n",
       "      <td>2311.300</td>\n",
       "      <td>39.788277</td>\n",
       "      <td>37.691933</td>\n",
       "      <td>-2.096344</td>\n",
       "    </tr>\n",
       "    <tr>\n",
       "      <th>...</th>\n",
       "      <td>...</td>\n",
       "      <td>...</td>\n",
       "      <td>...</td>\n",
       "      <td>...</td>\n",
       "      <td>...</td>\n",
       "      <td>...</td>\n",
       "      <td>...</td>\n",
       "      <td>...</td>\n",
       "      <td>...</td>\n",
       "      <td>...</td>\n",
       "      <td>...</td>\n",
       "      <td>...</td>\n",
       "      <td>...</td>\n",
       "      <td>...</td>\n",
       "      <td>...</td>\n",
       "      <td>...</td>\n",
       "      <td>...</td>\n",
       "      <td>...</td>\n",
       "      <td>...</td>\n",
       "      <td>...</td>\n",
       "      <td>...</td>\n",
       "    </tr>\n",
       "    <tr>\n",
       "      <th>944</th>\n",
       "      <td>944</td>\n",
       "      <td>12/31/2021</td>\n",
       "      <td>2/22/2022</td>\n",
       "      <td>U</td>\n",
       "      <td>3.153790e+08</td>\n",
       "      <td>73654000</td>\n",
       "      <td>209066000.0</td>\n",
       "      <td>4.841000e+09</td>\n",
       "      <td>2.447000e+09</td>\n",
       "      <td>NaN</td>\n",
       "      <td>...</td>\n",
       "      <td>4602.11</td>\n",
       "      <td>69.9</td>\n",
       "      <td>-0.6983</td>\n",
       "      <td>260115.0</td>\n",
       "      <td>4.2</td>\n",
       "      <td>0.11</td>\n",
       "      <td>3190.746</td>\n",
       "      <td>96.150002</td>\n",
       "      <td>103.180000</td>\n",
       "      <td>7.029999</td>\n",
       "    </tr>\n",
       "    <tr>\n",
       "      <th>945</th>\n",
       "      <td>945</td>\n",
       "      <td>3/31/2022</td>\n",
       "      <td>5/10/2022</td>\n",
       "      <td>U</td>\n",
       "      <td>3.190150e+08</td>\n",
       "      <td>93833000</td>\n",
       "      <td>221040000.0</td>\n",
       "      <td>4.947000e+09</td>\n",
       "      <td>2.585000e+09</td>\n",
       "      <td>NaN</td>\n",
       "      <td>...</td>\n",
       "      <td>4463.86</td>\n",
       "      <td>63.1</td>\n",
       "      <td>-0.4063</td>\n",
       "      <td>255821.0</td>\n",
       "      <td>3.8</td>\n",
       "      <td>0.13</td>\n",
       "      <td>3328.491</td>\n",
       "      <td>48.130001</td>\n",
       "      <td>35.090000</td>\n",
       "      <td>-13.040001</td>\n",
       "    </tr>\n",
       "    <tr>\n",
       "      <th>946</th>\n",
       "      <td>946</td>\n",
       "      <td>6/30/2022</td>\n",
       "      <td>8/9/2022</td>\n",
       "      <td>U</td>\n",
       "      <td>2.959200e+08</td>\n",
       "      <td>96836000</td>\n",
       "      <td>215960000.0</td>\n",
       "      <td>4.840000e+09</td>\n",
       "      <td>2.558000e+09</td>\n",
       "      <td>NaN</td>\n",
       "      <td>...</td>\n",
       "      <td>4105.67</td>\n",
       "      <td>57.9</td>\n",
       "      <td>-0.1295</td>\n",
       "      <td>199421.0</td>\n",
       "      <td>3.6</td>\n",
       "      <td>0.19</td>\n",
       "      <td>3521.785</td>\n",
       "      <td>50.349998</td>\n",
       "      <td>54.250000</td>\n",
       "      <td>3.900002</td>\n",
       "    </tr>\n",
       "    <tr>\n",
       "      <th>947</th>\n",
       "      <td>947</td>\n",
       "      <td>9/30/2022</td>\n",
       "      <td>11/9/2022</td>\n",
       "      <td>U</td>\n",
       "      <td>3.217460e+08</td>\n",
       "      <td>111903000</td>\n",
       "      <td>248380000.0</td>\n",
       "      <td>4.727000e+09</td>\n",
       "      <td>2.524000e+09</td>\n",
       "      <td>NaN</td>\n",
       "      <td>...</td>\n",
       "      <td>3980.35</td>\n",
       "      <td>56.1</td>\n",
       "      <td>-0.2758</td>\n",
       "      <td>191141.0</td>\n",
       "      <td>3.6</td>\n",
       "      <td>0.07</td>\n",
       "      <td>3347.843</td>\n",
       "      <td>21.500000</td>\n",
       "      <td>32.520000</td>\n",
       "      <td>11.020000</td>\n",
       "    </tr>\n",
       "    <tr>\n",
       "      <th>948</th>\n",
       "      <td>948</td>\n",
       "      <td>12/31/2022</td>\n",
       "      <td>2/27/2023</td>\n",
       "      <td>U</td>\n",
       "      <td>4.471600e+08</td>\n",
       "      <td>139928000</td>\n",
       "      <td>274111000.0</td>\n",
       "      <td>7.834000e+09</td>\n",
       "      <td>4.080000e+09</td>\n",
       "      <td>NaN</td>\n",
       "      <td>...</td>\n",
       "      <td>3851.97</td>\n",
       "      <td>58.8</td>\n",
       "      <td>-0.1566</td>\n",
       "      <td>188009.0</td>\n",
       "      <td>3.6</td>\n",
       "      <td>0.88</td>\n",
       "      <td>3185.640</td>\n",
       "      <td>29.639999</td>\n",
       "      <td>29.709999</td>\n",
       "      <td>0.070000</td>\n",
       "    </tr>\n",
       "  </tbody>\n",
       "</table>\n",
       "<p>949 rows × 24 columns</p>\n",
       "</div>"
      ],
      "text/plain": [
       "     Unnamed: 0        Date  filingDate  Name  totalRevenue  \\\n",
       "0             0   4/29/2018   5/22/2018  NVDA  3.207000e+09   \n",
       "1             1   7/29/2018   8/16/2018  NVDA  3.123000e+09   \n",
       "2             2  10/28/2018  11/15/2018  NVDA  3.181000e+09   \n",
       "3             3   1/27/2019   2/21/2019  NVDA  2.205000e+09   \n",
       "4             4   4/28/2019   5/16/2019  NVDA  2.220000e+09   \n",
       "..          ...         ...         ...   ...           ...   \n",
       "944         944  12/31/2021   2/22/2022     U  3.153790e+08   \n",
       "945         945   3/31/2022   5/10/2022     U  3.190150e+08   \n",
       "946         946   6/30/2022    8/9/2022     U  2.959200e+08   \n",
       "947         947   9/30/2022   11/9/2022     U  3.217460e+08   \n",
       "948         948  12/31/2022   2/27/2023     U  4.471600e+08   \n",
       "\n",
       "     costofGoodsAndServicesSold  researchAndDevelopment   totalAssets  \\\n",
       "0                    1139000000             542000000.0  1.146000e+10   \n",
       "1                    1148000000             581000000.0  1.288200e+10   \n",
       "2                    1260000000             605000000.0  1.365700e+10   \n",
       "3                     998000000             647000000.0  1.329200e+10   \n",
       "4                     924000000             674000000.0  1.402100e+10   \n",
       "..                          ...                     ...           ...   \n",
       "944                    73654000             209066000.0  4.841000e+09   \n",
       "945                    93833000             221040000.0  4.947000e+09   \n",
       "946                    96836000             215960000.0  4.840000e+09   \n",
       "947                   111903000             248380000.0  4.727000e+09   \n",
       "948                   139928000             274111000.0  7.834000e+09   \n",
       "\n",
       "     totalLiabilities     inventory  ...       SP  Cons_Sent  Fin_Stress  \\\n",
       "0        3.743000e+09  7.970000e+08  ...  2703.13       98.3     -0.1825   \n",
       "1        4.087000e+09  1.090000e+09  ...  2849.60       98.1     -0.6204   \n",
       "2        4.182000e+09  1.417000e+09  ...  2698.93       98.1     -0.1487   \n",
       "3        3.950000e+09  1.575000e+09  ...  2721.00       94.5     -0.3621   \n",
       "4        4.317000e+09  1.426000e+09  ...  2882.33       98.5     -0.5130   \n",
       "..                ...           ...  ...      ...        ...         ...   \n",
       "944      2.447000e+09           NaN  ...  4602.11       69.9     -0.6983   \n",
       "945      2.585000e+09           NaN  ...  4463.86       63.1     -0.4063   \n",
       "946      2.558000e+09           NaN  ...  4105.67       57.9     -0.1295   \n",
       "947      2.524000e+09           NaN  ...  3980.35       56.1     -0.2758   \n",
       "948      4.080000e+09           NaN  ...  3851.97       58.8     -0.1566   \n",
       "\n",
       "     Cash_On_Hand  Unemployment_Rate  Recession_probability  \\\n",
       "0        136813.0                3.9                   0.10   \n",
       "1        134561.0                3.8                   0.11   \n",
       "2        139445.0                3.8                   0.23   \n",
       "3        123508.0                3.9                   0.73   \n",
       "4        126995.0                3.6                   0.47   \n",
       "..            ...                ...                    ...   \n",
       "944      260115.0                4.2                   0.11   \n",
       "945      255821.0                3.8                   0.13   \n",
       "946      199421.0                3.6                   0.19   \n",
       "947      191141.0                3.6                   0.07   \n",
       "948      188009.0                3.6                   0.88   \n",
       "\n",
       "     Corporate_Profits  initialPrice  finalPrice      delta  \n",
       "0             2258.834     60.089935   61.363354   1.273418  \n",
       "1             2274.868     63.778820   61.400501  -2.378319  \n",
       "2             2295.174     50.168041   35.867950 -14.300091  \n",
       "3             2254.933     38.650589   39.375122   0.724533  \n",
       "4             2311.300     39.788277   37.691933  -2.096344  \n",
       "..                 ...           ...         ...        ...  \n",
       "944           3190.746     96.150002  103.180000   7.029999  \n",
       "945           3328.491     48.130001   35.090000 -13.040001  \n",
       "946           3521.785     50.349998   54.250000   3.900002  \n",
       "947           3347.843     21.500000   32.520000  11.020000  \n",
       "948           3185.640     29.639999   29.709999   0.070000  \n",
       "\n",
       "[949 rows x 24 columns]"
      ]
     },
     "metadata": {},
     "execution_count": 3
    }
   ],
   "metadata": {}
  },
  {
   "cell_type": "code",
   "execution_count": 4,
   "source": [
    "data = pd.read_csv('openBB_Data_v3.csv', index_col=0)"
   ],
   "outputs": [],
   "metadata": {}
  },
  {
   "cell_type": "code",
   "execution_count": 5,
   "source": [
    "data"
   ],
   "outputs": [
    {
     "output_type": "execute_result",
     "data": {
      "text/html": [
       "<div>\n",
       "<style scoped>\n",
       "    .dataframe tbody tr th:only-of-type {\n",
       "        vertical-align: middle;\n",
       "    }\n",
       "\n",
       "    .dataframe tbody tr th {\n",
       "        vertical-align: top;\n",
       "    }\n",
       "\n",
       "    .dataframe thead th {\n",
       "        text-align: right;\n",
       "    }\n",
       "</style>\n",
       "<table border=\"1\" class=\"dataframe\">\n",
       "  <thead>\n",
       "    <tr style=\"text-align: right;\">\n",
       "      <th></th>\n",
       "      <th>Date</th>\n",
       "      <th>filingDate</th>\n",
       "      <th>Name</th>\n",
       "      <th>totalRevenue</th>\n",
       "      <th>costofGoodsAndServicesSold</th>\n",
       "      <th>researchAndDevelopment</th>\n",
       "      <th>totalAssets</th>\n",
       "      <th>totalLiabilities</th>\n",
       "      <th>inventory</th>\n",
       "      <th>commonStockSharesOutstanding</th>\n",
       "      <th>...</th>\n",
       "      <th>SP</th>\n",
       "      <th>Cons_Sent</th>\n",
       "      <th>Fin_Stress</th>\n",
       "      <th>Cash_On_Hand</th>\n",
       "      <th>Unemployment_Rate</th>\n",
       "      <th>Recession_probability</th>\n",
       "      <th>Corporate_Profits</th>\n",
       "      <th>initialPrice</th>\n",
       "      <th>finalPrice</th>\n",
       "      <th>delta</th>\n",
       "    </tr>\n",
       "  </thead>\n",
       "  <tbody>\n",
       "    <tr>\n",
       "      <th>0</th>\n",
       "      <td>4/29/2018</td>\n",
       "      <td>5/22/2018</td>\n",
       "      <td>NVDA</td>\n",
       "      <td>3.207000e+09</td>\n",
       "      <td>1139000000</td>\n",
       "      <td>542000000.0</td>\n",
       "      <td>1.146000e+10</td>\n",
       "      <td>3.743000e+09</td>\n",
       "      <td>7.970000e+08</td>\n",
       "      <td>606000000.0</td>\n",
       "      <td>...</td>\n",
       "      <td>2703.13</td>\n",
       "      <td>98.3</td>\n",
       "      <td>-0.1825</td>\n",
       "      <td>136813.0</td>\n",
       "      <td>3.9</td>\n",
       "      <td>0.10</td>\n",
       "      <td>2258.834</td>\n",
       "      <td>60.089935</td>\n",
       "      <td>61.363354</td>\n",
       "      <td>1.273418</td>\n",
       "    </tr>\n",
       "    <tr>\n",
       "      <th>1</th>\n",
       "      <td>7/29/2018</td>\n",
       "      <td>8/16/2018</td>\n",
       "      <td>NVDA</td>\n",
       "      <td>3.123000e+09</td>\n",
       "      <td>1148000000</td>\n",
       "      <td>581000000.0</td>\n",
       "      <td>1.288200e+10</td>\n",
       "      <td>4.087000e+09</td>\n",
       "      <td>1.090000e+09</td>\n",
       "      <td>607000000.0</td>\n",
       "      <td>...</td>\n",
       "      <td>2849.60</td>\n",
       "      <td>98.1</td>\n",
       "      <td>-0.6204</td>\n",
       "      <td>134561.0</td>\n",
       "      <td>3.8</td>\n",
       "      <td>0.11</td>\n",
       "      <td>2274.868</td>\n",
       "      <td>63.778820</td>\n",
       "      <td>61.400501</td>\n",
       "      <td>-2.378319</td>\n",
       "    </tr>\n",
       "    <tr>\n",
       "      <th>2</th>\n",
       "      <td>10/28/2018</td>\n",
       "      <td>11/15/2018</td>\n",
       "      <td>NVDA</td>\n",
       "      <td>3.181000e+09</td>\n",
       "      <td>1260000000</td>\n",
       "      <td>605000000.0</td>\n",
       "      <td>1.365700e+10</td>\n",
       "      <td>4.182000e+09</td>\n",
       "      <td>1.417000e+09</td>\n",
       "      <td>609000000.0</td>\n",
       "      <td>...</td>\n",
       "      <td>2698.93</td>\n",
       "      <td>98.1</td>\n",
       "      <td>-0.1487</td>\n",
       "      <td>139445.0</td>\n",
       "      <td>3.8</td>\n",
       "      <td>0.23</td>\n",
       "      <td>2295.174</td>\n",
       "      <td>50.168041</td>\n",
       "      <td>35.867950</td>\n",
       "      <td>-14.300091</td>\n",
       "    </tr>\n",
       "    <tr>\n",
       "      <th>3</th>\n",
       "      <td>1/27/2019</td>\n",
       "      <td>2/21/2019</td>\n",
       "      <td>NVDA</td>\n",
       "      <td>2.205000e+09</td>\n",
       "      <td>998000000</td>\n",
       "      <td>647000000.0</td>\n",
       "      <td>1.329200e+10</td>\n",
       "      <td>3.950000e+09</td>\n",
       "      <td>1.575000e+09</td>\n",
       "      <td>606000000.0</td>\n",
       "      <td>...</td>\n",
       "      <td>2721.00</td>\n",
       "      <td>94.5</td>\n",
       "      <td>-0.3621</td>\n",
       "      <td>123508.0</td>\n",
       "      <td>3.9</td>\n",
       "      <td>0.73</td>\n",
       "      <td>2254.933</td>\n",
       "      <td>38.650589</td>\n",
       "      <td>39.375122</td>\n",
       "      <td>0.724533</td>\n",
       "    </tr>\n",
       "    <tr>\n",
       "      <th>4</th>\n",
       "      <td>4/28/2019</td>\n",
       "      <td>5/16/2019</td>\n",
       "      <td>NVDA</td>\n",
       "      <td>2.220000e+09</td>\n",
       "      <td>924000000</td>\n",
       "      <td>674000000.0</td>\n",
       "      <td>1.402100e+10</td>\n",
       "      <td>4.317000e+09</td>\n",
       "      <td>1.426000e+09</td>\n",
       "      <td>607000000.0</td>\n",
       "      <td>...</td>\n",
       "      <td>2882.33</td>\n",
       "      <td>98.5</td>\n",
       "      <td>-0.5130</td>\n",
       "      <td>126995.0</td>\n",
       "      <td>3.6</td>\n",
       "      <td>0.47</td>\n",
       "      <td>2311.300</td>\n",
       "      <td>39.788277</td>\n",
       "      <td>37.691933</td>\n",
       "      <td>-2.096344</td>\n",
       "    </tr>\n",
       "    <tr>\n",
       "      <th>...</th>\n",
       "      <td>...</td>\n",
       "      <td>...</td>\n",
       "      <td>...</td>\n",
       "      <td>...</td>\n",
       "      <td>...</td>\n",
       "      <td>...</td>\n",
       "      <td>...</td>\n",
       "      <td>...</td>\n",
       "      <td>...</td>\n",
       "      <td>...</td>\n",
       "      <td>...</td>\n",
       "      <td>...</td>\n",
       "      <td>...</td>\n",
       "      <td>...</td>\n",
       "      <td>...</td>\n",
       "      <td>...</td>\n",
       "      <td>...</td>\n",
       "      <td>...</td>\n",
       "      <td>...</td>\n",
       "      <td>...</td>\n",
       "      <td>...</td>\n",
       "    </tr>\n",
       "    <tr>\n",
       "      <th>944</th>\n",
       "      <td>12/31/2021</td>\n",
       "      <td>2/22/2022</td>\n",
       "      <td>U</td>\n",
       "      <td>3.153790e+08</td>\n",
       "      <td>73654000</td>\n",
       "      <td>209066000.0</td>\n",
       "      <td>4.841000e+09</td>\n",
       "      <td>2.447000e+09</td>\n",
       "      <td>NaN</td>\n",
       "      <td>292592000.0</td>\n",
       "      <td>...</td>\n",
       "      <td>4602.11</td>\n",
       "      <td>69.9</td>\n",
       "      <td>-0.6983</td>\n",
       "      <td>260115.0</td>\n",
       "      <td>4.2</td>\n",
       "      <td>0.11</td>\n",
       "      <td>3190.746</td>\n",
       "      <td>96.150002</td>\n",
       "      <td>103.180000</td>\n",
       "      <td>7.029999</td>\n",
       "    </tr>\n",
       "    <tr>\n",
       "      <th>945</th>\n",
       "      <td>3/31/2022</td>\n",
       "      <td>5/10/2022</td>\n",
       "      <td>U</td>\n",
       "      <td>3.190150e+08</td>\n",
       "      <td>93833000</td>\n",
       "      <td>221040000.0</td>\n",
       "      <td>4.947000e+09</td>\n",
       "      <td>2.585000e+09</td>\n",
       "      <td>NaN</td>\n",
       "      <td>295847000.0</td>\n",
       "      <td>...</td>\n",
       "      <td>4463.86</td>\n",
       "      <td>63.1</td>\n",
       "      <td>-0.4063</td>\n",
       "      <td>255821.0</td>\n",
       "      <td>3.8</td>\n",
       "      <td>0.13</td>\n",
       "      <td>3328.491</td>\n",
       "      <td>48.130001</td>\n",
       "      <td>35.090000</td>\n",
       "      <td>-13.040001</td>\n",
       "    </tr>\n",
       "    <tr>\n",
       "      <th>946</th>\n",
       "      <td>6/30/2022</td>\n",
       "      <td>8/9/2022</td>\n",
       "      <td>U</td>\n",
       "      <td>2.959200e+08</td>\n",
       "      <td>96836000</td>\n",
       "      <td>215960000.0</td>\n",
       "      <td>4.840000e+09</td>\n",
       "      <td>2.558000e+09</td>\n",
       "      <td>NaN</td>\n",
       "      <td>298028000.0</td>\n",
       "      <td>...</td>\n",
       "      <td>4105.67</td>\n",
       "      <td>57.9</td>\n",
       "      <td>-0.1295</td>\n",
       "      <td>199421.0</td>\n",
       "      <td>3.6</td>\n",
       "      <td>0.19</td>\n",
       "      <td>3521.785</td>\n",
       "      <td>50.349998</td>\n",
       "      <td>54.250000</td>\n",
       "      <td>3.900002</td>\n",
       "    </tr>\n",
       "    <tr>\n",
       "      <th>947</th>\n",
       "      <td>9/30/2022</td>\n",
       "      <td>11/9/2022</td>\n",
       "      <td>U</td>\n",
       "      <td>3.217460e+08</td>\n",
       "      <td>111903000</td>\n",
       "      <td>248380000.0</td>\n",
       "      <td>4.727000e+09</td>\n",
       "      <td>2.524000e+09</td>\n",
       "      <td>NaN</td>\n",
       "      <td>300588000.0</td>\n",
       "      <td>...</td>\n",
       "      <td>3980.35</td>\n",
       "      <td>56.1</td>\n",
       "      <td>-0.2758</td>\n",
       "      <td>191141.0</td>\n",
       "      <td>3.6</td>\n",
       "      <td>0.07</td>\n",
       "      <td>3347.843</td>\n",
       "      <td>21.500000</td>\n",
       "      <td>32.520000</td>\n",
       "      <td>11.020000</td>\n",
       "    </tr>\n",
       "    <tr>\n",
       "      <th>948</th>\n",
       "      <td>12/31/2022</td>\n",
       "      <td>2/27/2023</td>\n",
       "      <td>U</td>\n",
       "      <td>4.471600e+08</td>\n",
       "      <td>139928000</td>\n",
       "      <td>274111000.0</td>\n",
       "      <td>7.834000e+09</td>\n",
       "      <td>4.080000e+09</td>\n",
       "      <td>NaN</td>\n",
       "      <td>374243000.0</td>\n",
       "      <td>...</td>\n",
       "      <td>3851.97</td>\n",
       "      <td>58.8</td>\n",
       "      <td>-0.1566</td>\n",
       "      <td>188009.0</td>\n",
       "      <td>3.6</td>\n",
       "      <td>0.88</td>\n",
       "      <td>3185.640</td>\n",
       "      <td>29.639999</td>\n",
       "      <td>29.709999</td>\n",
       "      <td>0.070000</td>\n",
       "    </tr>\n",
       "  </tbody>\n",
       "</table>\n",
       "<p>949 rows × 23 columns</p>\n",
       "</div>"
      ],
      "text/plain": [
       "           Date  filingDate  Name  totalRevenue  costofGoodsAndServicesSold  \\\n",
       "0     4/29/2018   5/22/2018  NVDA  3.207000e+09                  1139000000   \n",
       "1     7/29/2018   8/16/2018  NVDA  3.123000e+09                  1148000000   \n",
       "2    10/28/2018  11/15/2018  NVDA  3.181000e+09                  1260000000   \n",
       "3     1/27/2019   2/21/2019  NVDA  2.205000e+09                   998000000   \n",
       "4     4/28/2019   5/16/2019  NVDA  2.220000e+09                   924000000   \n",
       "..          ...         ...   ...           ...                         ...   \n",
       "944  12/31/2021   2/22/2022     U  3.153790e+08                    73654000   \n",
       "945   3/31/2022   5/10/2022     U  3.190150e+08                    93833000   \n",
       "946   6/30/2022    8/9/2022     U  2.959200e+08                    96836000   \n",
       "947   9/30/2022   11/9/2022     U  3.217460e+08                   111903000   \n",
       "948  12/31/2022   2/27/2023     U  4.471600e+08                   139928000   \n",
       "\n",
       "     researchAndDevelopment   totalAssets  totalLiabilities     inventory  \\\n",
       "0               542000000.0  1.146000e+10      3.743000e+09  7.970000e+08   \n",
       "1               581000000.0  1.288200e+10      4.087000e+09  1.090000e+09   \n",
       "2               605000000.0  1.365700e+10      4.182000e+09  1.417000e+09   \n",
       "3               647000000.0  1.329200e+10      3.950000e+09  1.575000e+09   \n",
       "4               674000000.0  1.402100e+10      4.317000e+09  1.426000e+09   \n",
       "..                      ...           ...               ...           ...   \n",
       "944             209066000.0  4.841000e+09      2.447000e+09           NaN   \n",
       "945             221040000.0  4.947000e+09      2.585000e+09           NaN   \n",
       "946             215960000.0  4.840000e+09      2.558000e+09           NaN   \n",
       "947             248380000.0  4.727000e+09      2.524000e+09           NaN   \n",
       "948             274111000.0  7.834000e+09      4.080000e+09           NaN   \n",
       "\n",
       "     commonStockSharesOutstanding  ...       SP  Cons_Sent  Fin_Stress  \\\n",
       "0                     606000000.0  ...  2703.13       98.3     -0.1825   \n",
       "1                     607000000.0  ...  2849.60       98.1     -0.6204   \n",
       "2                     609000000.0  ...  2698.93       98.1     -0.1487   \n",
       "3                     606000000.0  ...  2721.00       94.5     -0.3621   \n",
       "4                     607000000.0  ...  2882.33       98.5     -0.5130   \n",
       "..                            ...  ...      ...        ...         ...   \n",
       "944                   292592000.0  ...  4602.11       69.9     -0.6983   \n",
       "945                   295847000.0  ...  4463.86       63.1     -0.4063   \n",
       "946                   298028000.0  ...  4105.67       57.9     -0.1295   \n",
       "947                   300588000.0  ...  3980.35       56.1     -0.2758   \n",
       "948                   374243000.0  ...  3851.97       58.8     -0.1566   \n",
       "\n",
       "     Cash_On_Hand  Unemployment_Rate  Recession_probability  \\\n",
       "0        136813.0                3.9                   0.10   \n",
       "1        134561.0                3.8                   0.11   \n",
       "2        139445.0                3.8                   0.23   \n",
       "3        123508.0                3.9                   0.73   \n",
       "4        126995.0                3.6                   0.47   \n",
       "..            ...                ...                    ...   \n",
       "944      260115.0                4.2                   0.11   \n",
       "945      255821.0                3.8                   0.13   \n",
       "946      199421.0                3.6                   0.19   \n",
       "947      191141.0                3.6                   0.07   \n",
       "948      188009.0                3.6                   0.88   \n",
       "\n",
       "     Corporate_Profits  initialPrice  finalPrice      delta  \n",
       "0             2258.834     60.089935   61.363354   1.273418  \n",
       "1             2274.868     63.778820   61.400501  -2.378319  \n",
       "2             2295.174     50.168041   35.867950 -14.300091  \n",
       "3             2254.933     38.650589   39.375122   0.724533  \n",
       "4             2311.300     39.788277   37.691933  -2.096344  \n",
       "..                 ...           ...         ...        ...  \n",
       "944           3190.746     96.150002  103.180000   7.029999  \n",
       "945           3328.491     48.130001   35.090000 -13.040001  \n",
       "946           3521.785     50.349998   54.250000   3.900002  \n",
       "947           3347.843     21.500000   32.520000  11.020000  \n",
       "948           3185.640     29.639999   29.709999   0.070000  \n",
       "\n",
       "[949 rows x 23 columns]"
      ]
     },
     "metadata": {},
     "execution_count": 5
    }
   ],
   "metadata": {}
  },
  {
   "cell_type": "code",
   "execution_count": 6,
   "source": [
    "df = pd.read_csv('openBB_Data_v3.csv', index_col=0)"
   ],
   "outputs": [],
   "metadata": {}
  },
  {
   "cell_type": "code",
   "execution_count": 7,
   "source": [
    "for row in df.index:\n",
    "    if df.at[row, 'delta'] > 0:\n",
    "        df.at[row, 'classification'] = 1\n",
    "    else:\n",
    "        df.at[row, 'classification'] = 0"
   ],
   "outputs": [],
   "metadata": {}
  },
  {
   "cell_type": "code",
   "execution_count": 8,
   "source": [
    "df"
   ],
   "outputs": [
    {
     "output_type": "execute_result",
     "data": {
      "text/html": [
       "<div>\n",
       "<style scoped>\n",
       "    .dataframe tbody tr th:only-of-type {\n",
       "        vertical-align: middle;\n",
       "    }\n",
       "\n",
       "    .dataframe tbody tr th {\n",
       "        vertical-align: top;\n",
       "    }\n",
       "\n",
       "    .dataframe thead th {\n",
       "        text-align: right;\n",
       "    }\n",
       "</style>\n",
       "<table border=\"1\" class=\"dataframe\">\n",
       "  <thead>\n",
       "    <tr style=\"text-align: right;\">\n",
       "      <th></th>\n",
       "      <th>Date</th>\n",
       "      <th>filingDate</th>\n",
       "      <th>Name</th>\n",
       "      <th>totalRevenue</th>\n",
       "      <th>costofGoodsAndServicesSold</th>\n",
       "      <th>researchAndDevelopment</th>\n",
       "      <th>totalAssets</th>\n",
       "      <th>totalLiabilities</th>\n",
       "      <th>inventory</th>\n",
       "      <th>commonStockSharesOutstanding</th>\n",
       "      <th>...</th>\n",
       "      <th>Cons_Sent</th>\n",
       "      <th>Fin_Stress</th>\n",
       "      <th>Cash_On_Hand</th>\n",
       "      <th>Unemployment_Rate</th>\n",
       "      <th>Recession_probability</th>\n",
       "      <th>Corporate_Profits</th>\n",
       "      <th>initialPrice</th>\n",
       "      <th>finalPrice</th>\n",
       "      <th>delta</th>\n",
       "      <th>classification</th>\n",
       "    </tr>\n",
       "  </thead>\n",
       "  <tbody>\n",
       "    <tr>\n",
       "      <th>0</th>\n",
       "      <td>4/29/2018</td>\n",
       "      <td>5/22/2018</td>\n",
       "      <td>NVDA</td>\n",
       "      <td>3.207000e+09</td>\n",
       "      <td>1139000000</td>\n",
       "      <td>542000000.0</td>\n",
       "      <td>1.146000e+10</td>\n",
       "      <td>3.743000e+09</td>\n",
       "      <td>7.970000e+08</td>\n",
       "      <td>606000000.0</td>\n",
       "      <td>...</td>\n",
       "      <td>98.3</td>\n",
       "      <td>-0.1825</td>\n",
       "      <td>136813.0</td>\n",
       "      <td>3.9</td>\n",
       "      <td>0.10</td>\n",
       "      <td>2258.834</td>\n",
       "      <td>60.089935</td>\n",
       "      <td>61.363354</td>\n",
       "      <td>1.273418</td>\n",
       "      <td>1.0</td>\n",
       "    </tr>\n",
       "    <tr>\n",
       "      <th>1</th>\n",
       "      <td>7/29/2018</td>\n",
       "      <td>8/16/2018</td>\n",
       "      <td>NVDA</td>\n",
       "      <td>3.123000e+09</td>\n",
       "      <td>1148000000</td>\n",
       "      <td>581000000.0</td>\n",
       "      <td>1.288200e+10</td>\n",
       "      <td>4.087000e+09</td>\n",
       "      <td>1.090000e+09</td>\n",
       "      <td>607000000.0</td>\n",
       "      <td>...</td>\n",
       "      <td>98.1</td>\n",
       "      <td>-0.6204</td>\n",
       "      <td>134561.0</td>\n",
       "      <td>3.8</td>\n",
       "      <td>0.11</td>\n",
       "      <td>2274.868</td>\n",
       "      <td>63.778820</td>\n",
       "      <td>61.400501</td>\n",
       "      <td>-2.378319</td>\n",
       "      <td>0.0</td>\n",
       "    </tr>\n",
       "    <tr>\n",
       "      <th>2</th>\n",
       "      <td>10/28/2018</td>\n",
       "      <td>11/15/2018</td>\n",
       "      <td>NVDA</td>\n",
       "      <td>3.181000e+09</td>\n",
       "      <td>1260000000</td>\n",
       "      <td>605000000.0</td>\n",
       "      <td>1.365700e+10</td>\n",
       "      <td>4.182000e+09</td>\n",
       "      <td>1.417000e+09</td>\n",
       "      <td>609000000.0</td>\n",
       "      <td>...</td>\n",
       "      <td>98.1</td>\n",
       "      <td>-0.1487</td>\n",
       "      <td>139445.0</td>\n",
       "      <td>3.8</td>\n",
       "      <td>0.23</td>\n",
       "      <td>2295.174</td>\n",
       "      <td>50.168041</td>\n",
       "      <td>35.867950</td>\n",
       "      <td>-14.300091</td>\n",
       "      <td>0.0</td>\n",
       "    </tr>\n",
       "    <tr>\n",
       "      <th>3</th>\n",
       "      <td>1/27/2019</td>\n",
       "      <td>2/21/2019</td>\n",
       "      <td>NVDA</td>\n",
       "      <td>2.205000e+09</td>\n",
       "      <td>998000000</td>\n",
       "      <td>647000000.0</td>\n",
       "      <td>1.329200e+10</td>\n",
       "      <td>3.950000e+09</td>\n",
       "      <td>1.575000e+09</td>\n",
       "      <td>606000000.0</td>\n",
       "      <td>...</td>\n",
       "      <td>94.5</td>\n",
       "      <td>-0.3621</td>\n",
       "      <td>123508.0</td>\n",
       "      <td>3.9</td>\n",
       "      <td>0.73</td>\n",
       "      <td>2254.933</td>\n",
       "      <td>38.650589</td>\n",
       "      <td>39.375122</td>\n",
       "      <td>0.724533</td>\n",
       "      <td>1.0</td>\n",
       "    </tr>\n",
       "    <tr>\n",
       "      <th>4</th>\n",
       "      <td>4/28/2019</td>\n",
       "      <td>5/16/2019</td>\n",
       "      <td>NVDA</td>\n",
       "      <td>2.220000e+09</td>\n",
       "      <td>924000000</td>\n",
       "      <td>674000000.0</td>\n",
       "      <td>1.402100e+10</td>\n",
       "      <td>4.317000e+09</td>\n",
       "      <td>1.426000e+09</td>\n",
       "      <td>607000000.0</td>\n",
       "      <td>...</td>\n",
       "      <td>98.5</td>\n",
       "      <td>-0.5130</td>\n",
       "      <td>126995.0</td>\n",
       "      <td>3.6</td>\n",
       "      <td>0.47</td>\n",
       "      <td>2311.300</td>\n",
       "      <td>39.788277</td>\n",
       "      <td>37.691933</td>\n",
       "      <td>-2.096344</td>\n",
       "      <td>0.0</td>\n",
       "    </tr>\n",
       "    <tr>\n",
       "      <th>...</th>\n",
       "      <td>...</td>\n",
       "      <td>...</td>\n",
       "      <td>...</td>\n",
       "      <td>...</td>\n",
       "      <td>...</td>\n",
       "      <td>...</td>\n",
       "      <td>...</td>\n",
       "      <td>...</td>\n",
       "      <td>...</td>\n",
       "      <td>...</td>\n",
       "      <td>...</td>\n",
       "      <td>...</td>\n",
       "      <td>...</td>\n",
       "      <td>...</td>\n",
       "      <td>...</td>\n",
       "      <td>...</td>\n",
       "      <td>...</td>\n",
       "      <td>...</td>\n",
       "      <td>...</td>\n",
       "      <td>...</td>\n",
       "      <td>...</td>\n",
       "    </tr>\n",
       "    <tr>\n",
       "      <th>944</th>\n",
       "      <td>12/31/2021</td>\n",
       "      <td>2/22/2022</td>\n",
       "      <td>U</td>\n",
       "      <td>3.153790e+08</td>\n",
       "      <td>73654000</td>\n",
       "      <td>209066000.0</td>\n",
       "      <td>4.841000e+09</td>\n",
       "      <td>2.447000e+09</td>\n",
       "      <td>NaN</td>\n",
       "      <td>292592000.0</td>\n",
       "      <td>...</td>\n",
       "      <td>69.9</td>\n",
       "      <td>-0.6983</td>\n",
       "      <td>260115.0</td>\n",
       "      <td>4.2</td>\n",
       "      <td>0.11</td>\n",
       "      <td>3190.746</td>\n",
       "      <td>96.150002</td>\n",
       "      <td>103.180000</td>\n",
       "      <td>7.029999</td>\n",
       "      <td>1.0</td>\n",
       "    </tr>\n",
       "    <tr>\n",
       "      <th>945</th>\n",
       "      <td>3/31/2022</td>\n",
       "      <td>5/10/2022</td>\n",
       "      <td>U</td>\n",
       "      <td>3.190150e+08</td>\n",
       "      <td>93833000</td>\n",
       "      <td>221040000.0</td>\n",
       "      <td>4.947000e+09</td>\n",
       "      <td>2.585000e+09</td>\n",
       "      <td>NaN</td>\n",
       "      <td>295847000.0</td>\n",
       "      <td>...</td>\n",
       "      <td>63.1</td>\n",
       "      <td>-0.4063</td>\n",
       "      <td>255821.0</td>\n",
       "      <td>3.8</td>\n",
       "      <td>0.13</td>\n",
       "      <td>3328.491</td>\n",
       "      <td>48.130001</td>\n",
       "      <td>35.090000</td>\n",
       "      <td>-13.040001</td>\n",
       "      <td>0.0</td>\n",
       "    </tr>\n",
       "    <tr>\n",
       "      <th>946</th>\n",
       "      <td>6/30/2022</td>\n",
       "      <td>8/9/2022</td>\n",
       "      <td>U</td>\n",
       "      <td>2.959200e+08</td>\n",
       "      <td>96836000</td>\n",
       "      <td>215960000.0</td>\n",
       "      <td>4.840000e+09</td>\n",
       "      <td>2.558000e+09</td>\n",
       "      <td>NaN</td>\n",
       "      <td>298028000.0</td>\n",
       "      <td>...</td>\n",
       "      <td>57.9</td>\n",
       "      <td>-0.1295</td>\n",
       "      <td>199421.0</td>\n",
       "      <td>3.6</td>\n",
       "      <td>0.19</td>\n",
       "      <td>3521.785</td>\n",
       "      <td>50.349998</td>\n",
       "      <td>54.250000</td>\n",
       "      <td>3.900002</td>\n",
       "      <td>1.0</td>\n",
       "    </tr>\n",
       "    <tr>\n",
       "      <th>947</th>\n",
       "      <td>9/30/2022</td>\n",
       "      <td>11/9/2022</td>\n",
       "      <td>U</td>\n",
       "      <td>3.217460e+08</td>\n",
       "      <td>111903000</td>\n",
       "      <td>248380000.0</td>\n",
       "      <td>4.727000e+09</td>\n",
       "      <td>2.524000e+09</td>\n",
       "      <td>NaN</td>\n",
       "      <td>300588000.0</td>\n",
       "      <td>...</td>\n",
       "      <td>56.1</td>\n",
       "      <td>-0.2758</td>\n",
       "      <td>191141.0</td>\n",
       "      <td>3.6</td>\n",
       "      <td>0.07</td>\n",
       "      <td>3347.843</td>\n",
       "      <td>21.500000</td>\n",
       "      <td>32.520000</td>\n",
       "      <td>11.020000</td>\n",
       "      <td>1.0</td>\n",
       "    </tr>\n",
       "    <tr>\n",
       "      <th>948</th>\n",
       "      <td>12/31/2022</td>\n",
       "      <td>2/27/2023</td>\n",
       "      <td>U</td>\n",
       "      <td>4.471600e+08</td>\n",
       "      <td>139928000</td>\n",
       "      <td>274111000.0</td>\n",
       "      <td>7.834000e+09</td>\n",
       "      <td>4.080000e+09</td>\n",
       "      <td>NaN</td>\n",
       "      <td>374243000.0</td>\n",
       "      <td>...</td>\n",
       "      <td>58.8</td>\n",
       "      <td>-0.1566</td>\n",
       "      <td>188009.0</td>\n",
       "      <td>3.6</td>\n",
       "      <td>0.88</td>\n",
       "      <td>3185.640</td>\n",
       "      <td>29.639999</td>\n",
       "      <td>29.709999</td>\n",
       "      <td>0.070000</td>\n",
       "      <td>1.0</td>\n",
       "    </tr>\n",
       "  </tbody>\n",
       "</table>\n",
       "<p>949 rows × 24 columns</p>\n",
       "</div>"
      ],
      "text/plain": [
       "           Date  filingDate  Name  totalRevenue  costofGoodsAndServicesSold  \\\n",
       "0     4/29/2018   5/22/2018  NVDA  3.207000e+09                  1139000000   \n",
       "1     7/29/2018   8/16/2018  NVDA  3.123000e+09                  1148000000   \n",
       "2    10/28/2018  11/15/2018  NVDA  3.181000e+09                  1260000000   \n",
       "3     1/27/2019   2/21/2019  NVDA  2.205000e+09                   998000000   \n",
       "4     4/28/2019   5/16/2019  NVDA  2.220000e+09                   924000000   \n",
       "..          ...         ...   ...           ...                         ...   \n",
       "944  12/31/2021   2/22/2022     U  3.153790e+08                    73654000   \n",
       "945   3/31/2022   5/10/2022     U  3.190150e+08                    93833000   \n",
       "946   6/30/2022    8/9/2022     U  2.959200e+08                    96836000   \n",
       "947   9/30/2022   11/9/2022     U  3.217460e+08                   111903000   \n",
       "948  12/31/2022   2/27/2023     U  4.471600e+08                   139928000   \n",
       "\n",
       "     researchAndDevelopment   totalAssets  totalLiabilities     inventory  \\\n",
       "0               542000000.0  1.146000e+10      3.743000e+09  7.970000e+08   \n",
       "1               581000000.0  1.288200e+10      4.087000e+09  1.090000e+09   \n",
       "2               605000000.0  1.365700e+10      4.182000e+09  1.417000e+09   \n",
       "3               647000000.0  1.329200e+10      3.950000e+09  1.575000e+09   \n",
       "4               674000000.0  1.402100e+10      4.317000e+09  1.426000e+09   \n",
       "..                      ...           ...               ...           ...   \n",
       "944             209066000.0  4.841000e+09      2.447000e+09           NaN   \n",
       "945             221040000.0  4.947000e+09      2.585000e+09           NaN   \n",
       "946             215960000.0  4.840000e+09      2.558000e+09           NaN   \n",
       "947             248380000.0  4.727000e+09      2.524000e+09           NaN   \n",
       "948             274111000.0  7.834000e+09      4.080000e+09           NaN   \n",
       "\n",
       "     commonStockSharesOutstanding  ...  Cons_Sent  Fin_Stress  Cash_On_Hand  \\\n",
       "0                     606000000.0  ...       98.3     -0.1825      136813.0   \n",
       "1                     607000000.0  ...       98.1     -0.6204      134561.0   \n",
       "2                     609000000.0  ...       98.1     -0.1487      139445.0   \n",
       "3                     606000000.0  ...       94.5     -0.3621      123508.0   \n",
       "4                     607000000.0  ...       98.5     -0.5130      126995.0   \n",
       "..                            ...  ...        ...         ...           ...   \n",
       "944                   292592000.0  ...       69.9     -0.6983      260115.0   \n",
       "945                   295847000.0  ...       63.1     -0.4063      255821.0   \n",
       "946                   298028000.0  ...       57.9     -0.1295      199421.0   \n",
       "947                   300588000.0  ...       56.1     -0.2758      191141.0   \n",
       "948                   374243000.0  ...       58.8     -0.1566      188009.0   \n",
       "\n",
       "     Unemployment_Rate  Recession_probability  Corporate_Profits  \\\n",
       "0                  3.9                   0.10           2258.834   \n",
       "1                  3.8                   0.11           2274.868   \n",
       "2                  3.8                   0.23           2295.174   \n",
       "3                  3.9                   0.73           2254.933   \n",
       "4                  3.6                   0.47           2311.300   \n",
       "..                 ...                    ...                ...   \n",
       "944                4.2                   0.11           3190.746   \n",
       "945                3.8                   0.13           3328.491   \n",
       "946                3.6                   0.19           3521.785   \n",
       "947                3.6                   0.07           3347.843   \n",
       "948                3.6                   0.88           3185.640   \n",
       "\n",
       "     initialPrice  finalPrice      delta  classification  \n",
       "0       60.089935   61.363354   1.273418             1.0  \n",
       "1       63.778820   61.400501  -2.378319             0.0  \n",
       "2       50.168041   35.867950 -14.300091             0.0  \n",
       "3       38.650589   39.375122   0.724533             1.0  \n",
       "4       39.788277   37.691933  -2.096344             0.0  \n",
       "..            ...         ...        ...             ...  \n",
       "944     96.150002  103.180000   7.029999             1.0  \n",
       "945     48.130001   35.090000 -13.040001             0.0  \n",
       "946     50.349998   54.250000   3.900002             1.0  \n",
       "947     21.500000   32.520000  11.020000             1.0  \n",
       "948     29.639999   29.709999   0.070000             1.0  \n",
       "\n",
       "[949 rows x 24 columns]"
      ]
     },
     "metadata": {},
     "execution_count": 8
    }
   ],
   "metadata": {}
  },
  {
   "cell_type": "code",
   "execution_count": 9,
   "source": [
    "#Using matplotlib.pyplot, plot the distribution of the target variable 'finalPrice'\n",
    "#plt.hist(data['totalRevenue'])\n",
    "#Use log scaling to normalize the data for totalRevenue and replace the column\n",
    "df['totalRevenue'] = np.log(df['totalRevenue'])"
   ],
   "outputs": [],
   "metadata": {}
  },
  {
   "cell_type": "code",
   "execution_count": 10,
   "source": [
    "plt.hist(df['totalAssets'])\n",
    "df['totalAssets'] = np.log(df['totalAssets'])\n",
    "plt.hist(df['totalAssets'])"
   ],
   "outputs": [
    {
     "output_type": "execute_result",
     "data": {
      "text/plain": [
       "(array([ 24.,  41., 116.,  88.,  61., 142., 170., 144.,  88.,  73.]),\n",
       " array([18.56074699, 19.41281689, 20.26488679, 21.11695669, 21.96902659,\n",
       "        22.82109649, 23.6731664 , 24.5252363 , 25.3773062 , 26.2293761 ,\n",
       "        27.081446  ]),\n",
       " <BarContainer object of 10 artists>)"
      ]
     },
     "metadata": {},
     "execution_count": 10
    },
    {
     "output_type": "display_data",
     "data": {
      "image/png": "[encoded data removed]",
      "text/plain": [
       "<Figure size 640x480 with 1 Axes>"
      ]
     },
     "metadata": {}
    }
   ],
   "metadata": {}
  },
  {
   "cell_type": "code",
   "execution_count": 11,
   "source": [
    "plt.hist(df['totalAssets'])"
   ],
   "outputs": [
    {
     "output_type": "execute_result",
     "data": {
      "text/plain": [
       "(array([ 24.,  41., 116.,  88.,  61., 142., 170., 144.,  88.,  73.]),\n",
       " array([18.56074699, 19.41281689, 20.26488679, 21.11695669, 21.96902659,\n",
       "        22.82109649, 23.6731664 , 24.5252363 , 25.3773062 , 26.2293761 ,\n",
       "        27.081446  ]),\n",
       " <BarContainer object of 10 artists>)"
      ]
     },
     "metadata": {},
     "execution_count": 11
    },
    {
     "output_type": "display_data",
     "data": {
      "image/png": "[encoded data removed]",
      "text/plain": [
       "<Figure size 640x480 with 1 Axes>"
      ]
     },
     "metadata": {}
    }
   ],
   "metadata": {}
  },
  {
   "cell_type": "code",
   "execution_count": 12,
   "source": [
    "plt.hist(df['totalLiabilities'])\n",
    "# df['totalAssets'] = np.log(df['totalAssets'])\n",
    "# plt.hist(df['totalAssets'])"
   ],
   "outputs": [
    {
     "output_type": "execute_result",
     "data": {
      "text/plain": [
       "(array([726.,  85.,  64.,  15.,  20.,   6.,   8.,  11.,   8.,   4.]),\n",
       " array([4.66520000e+07, 4.20852868e+10, 8.41239216e+10, 1.26162556e+11,\n",
       "        1.68201191e+11, 2.10239826e+11, 2.52278461e+11, 2.94317096e+11,\n",
       "        3.36355730e+11, 3.78394365e+11, 4.20433000e+11]),\n",
       " <BarContainer object of 10 artists>)"
      ]
     },
     "metadata": {},
     "execution_count": 12
    },
    {
     "output_type": "display_data",
     "data": {
      "image/png": "[encoded data removed]",
      "text/plain": [
       "<Figure size 640x480 with 1 Axes>"
      ]
     },
     "metadata": {}
    }
   ],
   "metadata": {}
  },
  {
   "cell_type": "code",
   "execution_count": 13,
   "source": [
    "#plt.hist(df['totalLiabilities'])\n",
    "df['totalAssets'] = np.log(df['totalAssets'])\n",
    "plt.hist(df['totalAssets'])"
   ],
   "outputs": [
    {
     "output_type": "execute_result",
     "data": {
      "text/plain": [
       "(array([ 21.,  28.,  79., 100.,  84.,  62., 190., 187., 116.,  80.]),\n",
       " array([2.92104897, 2.95882896, 2.99660895, 3.03438893, 3.07216892,\n",
       "        3.10994891, 3.1477289 , 3.18550888, 3.22328887, 3.26106886,\n",
       "        3.29884884]),\n",
       " <BarContainer object of 10 artists>)"
      ]
     },
     "metadata": {},
     "execution_count": 13
    },
    {
     "output_type": "display_data",
     "data": {
      "image/png": "[encoded data removed]",
      "text/plain": [
       "<Figure size 640x480 with 1 Axes>"
      ]
     },
     "metadata": {}
    }
   ],
   "metadata": {}
  },
  {
   "cell_type": "code",
   "execution_count": 14,
   "source": [
    "plt.hist(df['commonStockSharesOutstanding'])\n",
    "# df['totalAssets'] = np.log(df['totalAssets'])\n",
    "# plt.hist(df['totalAssets'])"
   ],
   "outputs": [
    {
     "output_type": "execute_result",
     "data": {
      "text/plain": [
       "(array([825.,  73.,   6.,  35.,   3.,   3.,   0.,   1.,   0.,   1.]),\n",
       " array([2.02810000e+07, 2.22225290e+09, 4.42422480e+09, 6.62619670e+09,\n",
       "        8.82816860e+09, 1.10301405e+10, 1.32321124e+10, 1.54340843e+10,\n",
       "        1.76360562e+10, 1.98380281e+10, 2.20400000e+10]),\n",
       " <BarContainer object of 10 artists>)"
      ]
     },
     "metadata": {},
     "execution_count": 14
    },
    {
     "output_type": "display_data",
     "data": {
      "image/png": "[encoded data removed]",
      "text/plain": [
       "<Figure size 640x480 with 1 Axes>"
      ]
     },
     "metadata": {}
    }
   ],
   "metadata": {}
  },
  {
   "cell_type": "code",
   "execution_count": 15,
   "source": [
    "# plt.hist(df['commonStockSharesOutstanding'])\n",
    "df['commonStockSharesOutstanding'] = np.log(df['commonStockSharesOutstanding'])\n",
    "plt.hist(df['commonStockSharesOutstanding'])"
   ],
   "outputs": [
    {
     "output_type": "execute_result",
     "data": {
      "text/plain": [
       "(array([ 34.,  71., 148., 159., 231., 171.,  27.,  63.,  38.,   5.]),\n",
       " array([16.82519505, 17.52428802, 18.223381  , 18.92247398, 19.62156696,\n",
       "        20.32065993, 21.01975291, 21.71884589, 22.41793887, 23.11703184,\n",
       "        23.81612482]),\n",
       " <BarContainer object of 10 artists>)"
      ]
     },
     "metadata": {},
     "execution_count": 15
    },
    {
     "output_type": "display_data",
     "data": {
      "image/png": "[encoded data removed]",
      "text/plain": [
       "<Figure size 640x480 with 1 Axes>"
      ]
     },
     "metadata": {}
    }
   ],
   "metadata": {}
  },
  {
   "cell_type": "code",
   "execution_count": 16,
   "source": [
    "df"
   ],
   "outputs": [
    {
     "output_type": "execute_result",
     "data": {
      "text/html": [
       "<div>\n",
       "<style scoped>\n",
       "    .dataframe tbody tr th:only-of-type {\n",
       "        vertical-align: middle;\n",
       "    }\n",
       "\n",
       "    .dataframe tbody tr th {\n",
       "        vertical-align: top;\n",
       "    }\n",
       "\n",
       "    .dataframe thead th {\n",
       "        text-align: right;\n",
       "    }\n",
       "</style>\n",
       "<table border=\"1\" class=\"dataframe\">\n",
       "  <thead>\n",
       "    <tr style=\"text-align: right;\">\n",
       "      <th></th>\n",
       "      <th>Date</th>\n",
       "      <th>filingDate</th>\n",
       "      <th>Name</th>\n",
       "      <th>totalRevenue</th>\n",
       "      <th>costofGoodsAndServicesSold</th>\n",
       "      <th>researchAndDevelopment</th>\n",
       "      <th>totalAssets</th>\n",
       "      <th>totalLiabilities</th>\n",
       "      <th>inventory</th>\n",
       "      <th>commonStockSharesOutstanding</th>\n",
       "      <th>...</th>\n",
       "      <th>Cons_Sent</th>\n",
       "      <th>Fin_Stress</th>\n",
       "      <th>Cash_On_Hand</th>\n",
       "      <th>Unemployment_Rate</th>\n",
       "      <th>Recession_probability</th>\n",
       "      <th>Corporate_Profits</th>\n",
       "      <th>initialPrice</th>\n",
       "      <th>finalPrice</th>\n",
       "      <th>delta</th>\n",
       "      <th>classification</th>\n",
       "    </tr>\n",
       "  </thead>\n",
       "  <tbody>\n",
       "    <tr>\n",
       "      <th>0</th>\n",
       "      <td>4/29/2018</td>\n",
       "      <td>5/22/2018</td>\n",
       "      <td>NVDA</td>\n",
       "      <td>21.888602</td>\n",
       "      <td>1139000000</td>\n",
       "      <td>542000000.0</td>\n",
       "      <td>3.142519</td>\n",
       "      <td>3.743000e+09</td>\n",
       "      <td>7.970000e+08</td>\n",
       "      <td>20.222391</td>\n",
       "      <td>...</td>\n",
       "      <td>98.3</td>\n",
       "      <td>-0.1825</td>\n",
       "      <td>136813.0</td>\n",
       "      <td>3.9</td>\n",
       "      <td>0.10</td>\n",
       "      <td>2258.834</td>\n",
       "      <td>60.089935</td>\n",
       "      <td>61.363354</td>\n",
       "      <td>1.273418</td>\n",
       "      <td>1.0</td>\n",
       "    </tr>\n",
       "    <tr>\n",
       "      <th>1</th>\n",
       "      <td>7/29/2018</td>\n",
       "      <td>8/16/2018</td>\n",
       "      <td>NVDA</td>\n",
       "      <td>21.862060</td>\n",
       "      <td>1148000000</td>\n",
       "      <td>581000000.0</td>\n",
       "      <td>3.147556</td>\n",
       "      <td>4.087000e+09</td>\n",
       "      <td>1.090000e+09</td>\n",
       "      <td>20.224039</td>\n",
       "      <td>...</td>\n",
       "      <td>98.1</td>\n",
       "      <td>-0.6204</td>\n",
       "      <td>134561.0</td>\n",
       "      <td>3.8</td>\n",
       "      <td>0.11</td>\n",
       "      <td>2274.868</td>\n",
       "      <td>63.778820</td>\n",
       "      <td>61.400501</td>\n",
       "      <td>-2.378319</td>\n",
       "      <td>0.0</td>\n",
       "    </tr>\n",
       "    <tr>\n",
       "      <th>2</th>\n",
       "      <td>10/28/2018</td>\n",
       "      <td>11/15/2018</td>\n",
       "      <td>NVDA</td>\n",
       "      <td>21.880461</td>\n",
       "      <td>1260000000</td>\n",
       "      <td>605000000.0</td>\n",
       "      <td>3.150062</td>\n",
       "      <td>4.182000e+09</td>\n",
       "      <td>1.417000e+09</td>\n",
       "      <td>20.227329</td>\n",
       "      <td>...</td>\n",
       "      <td>98.1</td>\n",
       "      <td>-0.1487</td>\n",
       "      <td>139445.0</td>\n",
       "      <td>3.8</td>\n",
       "      <td>0.23</td>\n",
       "      <td>2295.174</td>\n",
       "      <td>50.168041</td>\n",
       "      <td>35.867950</td>\n",
       "      <td>-14.300091</td>\n",
       "      <td>0.0</td>\n",
       "    </tr>\n",
       "    <tr>\n",
       "      <th>3</th>\n",
       "      <td>1/27/2019</td>\n",
       "      <td>2/21/2019</td>\n",
       "      <td>NVDA</td>\n",
       "      <td>21.513993</td>\n",
       "      <td>998000000</td>\n",
       "      <td>647000000.0</td>\n",
       "      <td>3.148901</td>\n",
       "      <td>3.950000e+09</td>\n",
       "      <td>1.575000e+09</td>\n",
       "      <td>20.222391</td>\n",
       "      <td>...</td>\n",
       "      <td>94.5</td>\n",
       "      <td>-0.3621</td>\n",
       "      <td>123508.0</td>\n",
       "      <td>3.9</td>\n",
       "      <td>0.73</td>\n",
       "      <td>2254.933</td>\n",
       "      <td>38.650589</td>\n",
       "      <td>39.375122</td>\n",
       "      <td>0.724533</td>\n",
       "      <td>1.0</td>\n",
       "    </tr>\n",
       "    <tr>\n",
       "      <th>4</th>\n",
       "      <td>4/28/2019</td>\n",
       "      <td>5/16/2019</td>\n",
       "      <td>NVDA</td>\n",
       "      <td>21.520773</td>\n",
       "      <td>924000000</td>\n",
       "      <td>674000000.0</td>\n",
       "      <td>3.151189</td>\n",
       "      <td>4.317000e+09</td>\n",
       "      <td>1.426000e+09</td>\n",
       "      <td>20.224039</td>\n",
       "      <td>...</td>\n",
       "      <td>98.5</td>\n",
       "      <td>-0.5130</td>\n",
       "      <td>126995.0</td>\n",
       "      <td>3.6</td>\n",
       "      <td>0.47</td>\n",
       "      <td>2311.300</td>\n",
       "      <td>39.788277</td>\n",
       "      <td>37.691933</td>\n",
       "      <td>-2.096344</td>\n",
       "      <td>0.0</td>\n",
       "    </tr>\n",
       "    <tr>\n",
       "      <th>...</th>\n",
       "      <td>...</td>\n",
       "      <td>...</td>\n",
       "      <td>...</td>\n",
       "      <td>...</td>\n",
       "      <td>...</td>\n",
       "      <td>...</td>\n",
       "      <td>...</td>\n",
       "      <td>...</td>\n",
       "      <td>...</td>\n",
       "      <td>...</td>\n",
       "      <td>...</td>\n",
       "      <td>...</td>\n",
       "      <td>...</td>\n",
       "      <td>...</td>\n",
       "      <td>...</td>\n",
       "      <td>...</td>\n",
       "      <td>...</td>\n",
       "      <td>...</td>\n",
       "      <td>...</td>\n",
       "      <td>...</td>\n",
       "      <td>...</td>\n",
       "    </tr>\n",
       "    <tr>\n",
       "      <th>944</th>\n",
       "      <td>12/31/2021</td>\n",
       "      <td>2/22/2022</td>\n",
       "      <td>U</td>\n",
       "      <td>19.569286</td>\n",
       "      <td>73654000</td>\n",
       "      <td>209066000.0</td>\n",
       "      <td>3.104604</td>\n",
       "      <td>2.447000e+09</td>\n",
       "      <td>NaN</td>\n",
       "      <td>19.494290</td>\n",
       "      <td>...</td>\n",
       "      <td>69.9</td>\n",
       "      <td>-0.6983</td>\n",
       "      <td>260115.0</td>\n",
       "      <td>4.2</td>\n",
       "      <td>0.11</td>\n",
       "      <td>3190.746</td>\n",
       "      <td>96.150002</td>\n",
       "      <td>103.180000</td>\n",
       "      <td>7.029999</td>\n",
       "      <td>1.0</td>\n",
       "    </tr>\n",
       "    <tr>\n",
       "      <th>945</th>\n",
       "      <td>3/31/2022</td>\n",
       "      <td>5/10/2022</td>\n",
       "      <td>U</td>\n",
       "      <td>19.580749</td>\n",
       "      <td>93833000</td>\n",
       "      <td>221040000.0</td>\n",
       "      <td>3.105575</td>\n",
       "      <td>2.585000e+09</td>\n",
       "      <td>NaN</td>\n",
       "      <td>19.505353</td>\n",
       "      <td>...</td>\n",
       "      <td>63.1</td>\n",
       "      <td>-0.4063</td>\n",
       "      <td>255821.0</td>\n",
       "      <td>3.8</td>\n",
       "      <td>0.13</td>\n",
       "      <td>3328.491</td>\n",
       "      <td>48.130001</td>\n",
       "      <td>35.090000</td>\n",
       "      <td>-13.040001</td>\n",
       "      <td>0.0</td>\n",
       "    </tr>\n",
       "    <tr>\n",
       "      <th>946</th>\n",
       "      <td>6/30/2022</td>\n",
       "      <td>8/9/2022</td>\n",
       "      <td>U</td>\n",
       "      <td>19.505600</td>\n",
       "      <td>96836000</td>\n",
       "      <td>215960000.0</td>\n",
       "      <td>3.104595</td>\n",
       "      <td>2.558000e+09</td>\n",
       "      <td>NaN</td>\n",
       "      <td>19.512698</td>\n",
       "      <td>...</td>\n",
       "      <td>57.9</td>\n",
       "      <td>-0.1295</td>\n",
       "      <td>199421.0</td>\n",
       "      <td>3.6</td>\n",
       "      <td>0.19</td>\n",
       "      <td>3521.785</td>\n",
       "      <td>50.349998</td>\n",
       "      <td>54.250000</td>\n",
       "      <td>3.900002</td>\n",
       "      <td>1.0</td>\n",
       "    </tr>\n",
       "    <tr>\n",
       "      <th>947</th>\n",
       "      <td>9/30/2022</td>\n",
       "      <td>11/9/2022</td>\n",
       "      <td>U</td>\n",
       "      <td>19.589273</td>\n",
       "      <td>111903000</td>\n",
       "      <td>248380000.0</td>\n",
       "      <td>3.103535</td>\n",
       "      <td>2.524000e+09</td>\n",
       "      <td>NaN</td>\n",
       "      <td>19.521251</td>\n",
       "      <td>...</td>\n",
       "      <td>56.1</td>\n",
       "      <td>-0.2758</td>\n",
       "      <td>191141.0</td>\n",
       "      <td>3.6</td>\n",
       "      <td>0.07</td>\n",
       "      <td>3347.843</td>\n",
       "      <td>21.500000</td>\n",
       "      <td>32.520000</td>\n",
       "      <td>11.020000</td>\n",
       "      <td>1.0</td>\n",
       "    </tr>\n",
       "    <tr>\n",
       "      <th>948</th>\n",
       "      <td>12/31/2022</td>\n",
       "      <td>2/27/2023</td>\n",
       "      <td>U</td>\n",
       "      <td>19.918427</td>\n",
       "      <td>139928000</td>\n",
       "      <td>274111000.0</td>\n",
       "      <td>3.125959</td>\n",
       "      <td>4.080000e+09</td>\n",
       "      <td>NaN</td>\n",
       "      <td>19.740416</td>\n",
       "      <td>...</td>\n",
       "      <td>58.8</td>\n",
       "      <td>-0.1566</td>\n",
       "      <td>188009.0</td>\n",
       "      <td>3.6</td>\n",
       "      <td>0.88</td>\n",
       "      <td>3185.640</td>\n",
       "      <td>29.639999</td>\n",
       "      <td>29.709999</td>\n",
       "      <td>0.070000</td>\n",
       "      <td>1.0</td>\n",
       "    </tr>\n",
       "  </tbody>\n",
       "</table>\n",
       "<p>949 rows × 24 columns</p>\n",
       "</div>"
      ],
      "text/plain": [
       "           Date  filingDate  Name  totalRevenue  costofGoodsAndServicesSold  \\\n",
       "0     4/29/2018   5/22/2018  NVDA     21.888602                  1139000000   \n",
       "1     7/29/2018   8/16/2018  NVDA     21.862060                  1148000000   \n",
       "2    10/28/2018  11/15/2018  NVDA     21.880461                  1260000000   \n",
       "3     1/27/2019   2/21/2019  NVDA     21.513993                   998000000   \n",
       "4     4/28/2019   5/16/2019  NVDA     21.520773                   924000000   \n",
       "..          ...         ...   ...           ...                         ...   \n",
       "944  12/31/2021   2/22/2022     U     19.569286                    73654000   \n",
       "945   3/31/2022   5/10/2022     U     19.580749                    93833000   \n",
       "946   6/30/2022    8/9/2022     U     19.505600                    96836000   \n",
       "947   9/30/2022   11/9/2022     U     19.589273                   111903000   \n",
       "948  12/31/2022   2/27/2023     U     19.918427                   139928000   \n",
       "\n",
       "     researchAndDevelopment  totalAssets  totalLiabilities     inventory  \\\n",
       "0               542000000.0     3.142519      3.743000e+09  7.970000e+08   \n",
       "1               581000000.0     3.147556      4.087000e+09  1.090000e+09   \n",
       "2               605000000.0     3.150062      4.182000e+09  1.417000e+09   \n",
       "3               647000000.0     3.148901      3.950000e+09  1.575000e+09   \n",
       "4               674000000.0     3.151189      4.317000e+09  1.426000e+09   \n",
       "..                      ...          ...               ...           ...   \n",
       "944             209066000.0     3.104604      2.447000e+09           NaN   \n",
       "945             221040000.0     3.105575      2.585000e+09           NaN   \n",
       "946             215960000.0     3.104595      2.558000e+09           NaN   \n",
       "947             248380000.0     3.103535      2.524000e+09           NaN   \n",
       "948             274111000.0     3.125959      4.080000e+09           NaN   \n",
       "\n",
       "     commonStockSharesOutstanding  ...  Cons_Sent  Fin_Stress  Cash_On_Hand  \\\n",
       "0                       20.222391  ...       98.3     -0.1825      136813.0   \n",
       "1                       20.224039  ...       98.1     -0.6204      134561.0   \n",
       "2                       20.227329  ...       98.1     -0.1487      139445.0   \n",
       "3                       20.222391  ...       94.5     -0.3621      123508.0   \n",
       "4                       20.224039  ...       98.5     -0.5130      126995.0   \n",
       "..                            ...  ...        ...         ...           ...   \n",
       "944                     19.494290  ...       69.9     -0.6983      260115.0   \n",
       "945                     19.505353  ...       63.1     -0.4063      255821.0   \n",
       "946                     19.512698  ...       57.9     -0.1295      199421.0   \n",
       "947                     19.521251  ...       56.1     -0.2758      191141.0   \n",
       "948                     19.740416  ...       58.8     -0.1566      188009.0   \n",
       "\n",
       "     Unemployment_Rate  Recession_probability  Corporate_Profits  \\\n",
       "0                  3.9                   0.10           2258.834   \n",
       "1                  3.8                   0.11           2274.868   \n",
       "2                  3.8                   0.23           2295.174   \n",
       "3                  3.9                   0.73           2254.933   \n",
       "4                  3.6                   0.47           2311.300   \n",
       "..                 ...                    ...                ...   \n",
       "944                4.2                   0.11           3190.746   \n",
       "945                3.8                   0.13           3328.491   \n",
       "946                3.6                   0.19           3521.785   \n",
       "947                3.6                   0.07           3347.843   \n",
       "948                3.6                   0.88           3185.640   \n",
       "\n",
       "     initialPrice  finalPrice      delta  classification  \n",
       "0       60.089935   61.363354   1.273418             1.0  \n",
       "1       63.778820   61.400501  -2.378319             0.0  \n",
       "2       50.168041   35.867950 -14.300091             0.0  \n",
       "3       38.650589   39.375122   0.724533             1.0  \n",
       "4       39.788277   37.691933  -2.096344             0.0  \n",
       "..            ...         ...        ...             ...  \n",
       "944     96.150002  103.180000   7.029999             1.0  \n",
       "945     48.130001   35.090000 -13.040001             0.0  \n",
       "946     50.349998   54.250000   3.900002             1.0  \n",
       "947     21.500000   32.520000  11.020000             1.0  \n",
       "948     29.639999   29.709999   0.070000             1.0  \n",
       "\n",
       "[949 rows x 24 columns]"
      ]
     },
     "metadata": {},
     "execution_count": 16
    }
   ],
   "metadata": {}
  },
  {
   "cell_type": "code",
   "execution_count": 17,
   "source": [
    "data = pd.read_csv('openBB_Data_v3.csv', index_col=0)"
   ],
   "outputs": [],
   "metadata": {}
  },
  {
   "cell_type": "code",
   "execution_count": 18,
   "source": [
    "df['totalLiabilities'] = data['totalLiabilities']"
   ],
   "outputs": [],
   "metadata": {}
  },
  {
   "cell_type": "code",
   "execution_count": 19,
   "source": [
    "#plt.hist(df['totalLiabilities'])\n",
    "df['totalLiabilities'] = np.log(df['totalLiabilities'])\n",
    "plt.hist(df['totalLiabilities'])"
   ],
   "outputs": [
    {
     "output_type": "execute_result",
     "data": {
      "text/plain": [
       "(array([ 29.,  35.,  82., 110.,  98., 130., 156., 164.,  87.,  56.]),\n",
       " array([17.65822636, 18.56885882, 19.47949128, 20.39012374, 21.3007562 ,\n",
       "        22.21138866, 23.12202112, 24.03265359, 24.94328605, 25.85391851,\n",
       "        26.76455097]),\n",
       " <BarContainer object of 10 artists>)"
      ]
     },
     "metadata": {},
     "execution_count": 19
    },
    {
     "output_type": "display_data",
     "data": {
      "image/png": "[encoded data removed]",
      "text/plain": [
       "<Figure size 640x480 with 1 Axes>"
      ]
     },
     "metadata": {}
    }
   ],
   "metadata": {}
  },
  {
   "cell_type": "code",
   "execution_count": 20,
   "source": [
    "df"
   ],
   "outputs": [
    {
     "output_type": "execute_result",
     "data": {
      "text/html": [
       "<div>\n",
       "<style scoped>\n",
       "    .dataframe tbody tr th:only-of-type {\n",
       "        vertical-align: middle;\n",
       "    }\n",
       "\n",
       "    .dataframe tbody tr th {\n",
       "        vertical-align: top;\n",
       "    }\n",
       "\n",
       "    .dataframe thead th {\n",
       "        text-align: right;\n",
       "    }\n",
       "</style>\n",
       "<table border=\"1\" class=\"dataframe\">\n",
       "  <thead>\n",
       "    <tr style=\"text-align: right;\">\n",
       "      <th></th>\n",
       "      <th>Date</th>\n",
       "      <th>filingDate</th>\n",
       "      <th>Name</th>\n",
       "      <th>totalRevenue</th>\n",
       "      <th>costofGoodsAndServicesSold</th>\n",
       "      <th>researchAndDevelopment</th>\n",
       "      <th>totalAssets</th>\n",
       "      <th>totalLiabilities</th>\n",
       "      <th>inventory</th>\n",
       "      <th>commonStockSharesOutstanding</th>\n",
       "      <th>...</th>\n",
       "      <th>Cons_Sent</th>\n",
       "      <th>Fin_Stress</th>\n",
       "      <th>Cash_On_Hand</th>\n",
       "      <th>Unemployment_Rate</th>\n",
       "      <th>Recession_probability</th>\n",
       "      <th>Corporate_Profits</th>\n",
       "      <th>initialPrice</th>\n",
       "      <th>finalPrice</th>\n",
       "      <th>delta</th>\n",
       "      <th>classification</th>\n",
       "    </tr>\n",
       "  </thead>\n",
       "  <tbody>\n",
       "    <tr>\n",
       "      <th>0</th>\n",
       "      <td>4/29/2018</td>\n",
       "      <td>5/22/2018</td>\n",
       "      <td>NVDA</td>\n",
       "      <td>21.888602</td>\n",
       "      <td>1139000000</td>\n",
       "      <td>542000000.0</td>\n",
       "      <td>3.142519</td>\n",
       "      <td>22.043153</td>\n",
       "      <td>7.970000e+08</td>\n",
       "      <td>20.222391</td>\n",
       "      <td>...</td>\n",
       "      <td>98.3</td>\n",
       "      <td>-0.1825</td>\n",
       "      <td>136813.0</td>\n",
       "      <td>3.9</td>\n",
       "      <td>0.10</td>\n",
       "      <td>2258.834</td>\n",
       "      <td>60.089935</td>\n",
       "      <td>61.363354</td>\n",
       "      <td>1.273418</td>\n",
       "      <td>1.0</td>\n",
       "    </tr>\n",
       "    <tr>\n",
       "      <th>1</th>\n",
       "      <td>7/29/2018</td>\n",
       "      <td>8/16/2018</td>\n",
       "      <td>NVDA</td>\n",
       "      <td>21.862060</td>\n",
       "      <td>1148000000</td>\n",
       "      <td>581000000.0</td>\n",
       "      <td>3.147556</td>\n",
       "      <td>22.131077</td>\n",
       "      <td>1.090000e+09</td>\n",
       "      <td>20.224039</td>\n",
       "      <td>...</td>\n",
       "      <td>98.1</td>\n",
       "      <td>-0.6204</td>\n",
       "      <td>134561.0</td>\n",
       "      <td>3.8</td>\n",
       "      <td>0.11</td>\n",
       "      <td>2274.868</td>\n",
       "      <td>63.778820</td>\n",
       "      <td>61.400501</td>\n",
       "      <td>-2.378319</td>\n",
       "      <td>0.0</td>\n",
       "    </tr>\n",
       "    <tr>\n",
       "      <th>2</th>\n",
       "      <td>10/28/2018</td>\n",
       "      <td>11/15/2018</td>\n",
       "      <td>NVDA</td>\n",
       "      <td>21.880461</td>\n",
       "      <td>1260000000</td>\n",
       "      <td>605000000.0</td>\n",
       "      <td>3.150062</td>\n",
       "      <td>22.154055</td>\n",
       "      <td>1.417000e+09</td>\n",
       "      <td>20.227329</td>\n",
       "      <td>...</td>\n",
       "      <td>98.1</td>\n",
       "      <td>-0.1487</td>\n",
       "      <td>139445.0</td>\n",
       "      <td>3.8</td>\n",
       "      <td>0.23</td>\n",
       "      <td>2295.174</td>\n",
       "      <td>50.168041</td>\n",
       "      <td>35.867950</td>\n",
       "      <td>-14.300091</td>\n",
       "      <td>0.0</td>\n",
       "    </tr>\n",
       "    <tr>\n",
       "      <th>3</th>\n",
       "      <td>1/27/2019</td>\n",
       "      <td>2/21/2019</td>\n",
       "      <td>NVDA</td>\n",
       "      <td>21.513993</td>\n",
       "      <td>998000000</td>\n",
       "      <td>647000000.0</td>\n",
       "      <td>3.148901</td>\n",
       "      <td>22.096981</td>\n",
       "      <td>1.575000e+09</td>\n",
       "      <td>20.222391</td>\n",
       "      <td>...</td>\n",
       "      <td>94.5</td>\n",
       "      <td>-0.3621</td>\n",
       "      <td>123508.0</td>\n",
       "      <td>3.9</td>\n",
       "      <td>0.73</td>\n",
       "      <td>2254.933</td>\n",
       "      <td>38.650589</td>\n",
       "      <td>39.375122</td>\n",
       "      <td>0.724533</td>\n",
       "      <td>1.0</td>\n",
       "    </tr>\n",
       "    <tr>\n",
       "      <th>4</th>\n",
       "      <td>4/28/2019</td>\n",
       "      <td>5/16/2019</td>\n",
       "      <td>NVDA</td>\n",
       "      <td>21.520773</td>\n",
       "      <td>924000000</td>\n",
       "      <td>674000000.0</td>\n",
       "      <td>3.151189</td>\n",
       "      <td>22.185827</td>\n",
       "      <td>1.426000e+09</td>\n",
       "      <td>20.224039</td>\n",
       "      <td>...</td>\n",
       "      <td>98.5</td>\n",
       "      <td>-0.5130</td>\n",
       "      <td>126995.0</td>\n",
       "      <td>3.6</td>\n",
       "      <td>0.47</td>\n",
       "      <td>2311.300</td>\n",
       "      <td>39.788277</td>\n",
       "      <td>37.691933</td>\n",
       "      <td>-2.096344</td>\n",
       "      <td>0.0</td>\n",
       "    </tr>\n",
       "    <tr>\n",
       "      <th>...</th>\n",
       "      <td>...</td>\n",
       "      <td>...</td>\n",
       "      <td>...</td>\n",
       "      <td>...</td>\n",
       "      <td>...</td>\n",
       "      <td>...</td>\n",
       "      <td>...</td>\n",
       "      <td>...</td>\n",
       "      <td>...</td>\n",
       "      <td>...</td>\n",
       "      <td>...</td>\n",
       "      <td>...</td>\n",
       "      <td>...</td>\n",
       "      <td>...</td>\n",
       "      <td>...</td>\n",
       "      <td>...</td>\n",
       "      <td>...</td>\n",
       "      <td>...</td>\n",
       "      <td>...</td>\n",
       "      <td>...</td>\n",
       "      <td>...</td>\n",
       "    </tr>\n",
       "    <tr>\n",
       "      <th>944</th>\n",
       "      <td>12/31/2021</td>\n",
       "      <td>2/22/2022</td>\n",
       "      <td>U</td>\n",
       "      <td>19.569286</td>\n",
       "      <td>73654000</td>\n",
       "      <td>209066000.0</td>\n",
       "      <td>3.104604</td>\n",
       "      <td>21.618129</td>\n",
       "      <td>NaN</td>\n",
       "      <td>19.494290</td>\n",
       "      <td>...</td>\n",
       "      <td>69.9</td>\n",
       "      <td>-0.6983</td>\n",
       "      <td>260115.0</td>\n",
       "      <td>4.2</td>\n",
       "      <td>0.11</td>\n",
       "      <td>3190.746</td>\n",
       "      <td>96.150002</td>\n",
       "      <td>103.180000</td>\n",
       "      <td>7.029999</td>\n",
       "      <td>1.0</td>\n",
       "    </tr>\n",
       "    <tr>\n",
       "      <th>945</th>\n",
       "      <td>3/31/2022</td>\n",
       "      <td>5/10/2022</td>\n",
       "      <td>U</td>\n",
       "      <td>19.580749</td>\n",
       "      <td>93833000</td>\n",
       "      <td>221040000.0</td>\n",
       "      <td>3.105575</td>\n",
       "      <td>21.672991</td>\n",
       "      <td>NaN</td>\n",
       "      <td>19.505353</td>\n",
       "      <td>...</td>\n",
       "      <td>63.1</td>\n",
       "      <td>-0.4063</td>\n",
       "      <td>255821.0</td>\n",
       "      <td>3.8</td>\n",
       "      <td>0.13</td>\n",
       "      <td>3328.491</td>\n",
       "      <td>48.130001</td>\n",
       "      <td>35.090000</td>\n",
       "      <td>-13.040001</td>\n",
       "      <td>0.0</td>\n",
       "    </tr>\n",
       "    <tr>\n",
       "      <th>946</th>\n",
       "      <td>6/30/2022</td>\n",
       "      <td>8/9/2022</td>\n",
       "      <td>U</td>\n",
       "      <td>19.505600</td>\n",
       "      <td>96836000</td>\n",
       "      <td>215960000.0</td>\n",
       "      <td>3.104595</td>\n",
       "      <td>21.662492</td>\n",
       "      <td>NaN</td>\n",
       "      <td>19.512698</td>\n",
       "      <td>...</td>\n",
       "      <td>57.9</td>\n",
       "      <td>-0.1295</td>\n",
       "      <td>199421.0</td>\n",
       "      <td>3.6</td>\n",
       "      <td>0.19</td>\n",
       "      <td>3521.785</td>\n",
       "      <td>50.349998</td>\n",
       "      <td>54.250000</td>\n",
       "      <td>3.900002</td>\n",
       "      <td>1.0</td>\n",
       "    </tr>\n",
       "    <tr>\n",
       "      <th>947</th>\n",
       "      <td>9/30/2022</td>\n",
       "      <td>11/9/2022</td>\n",
       "      <td>U</td>\n",
       "      <td>19.589273</td>\n",
       "      <td>111903000</td>\n",
       "      <td>248380000.0</td>\n",
       "      <td>3.103535</td>\n",
       "      <td>21.649111</td>\n",
       "      <td>NaN</td>\n",
       "      <td>19.521251</td>\n",
       "      <td>...</td>\n",
       "      <td>56.1</td>\n",
       "      <td>-0.2758</td>\n",
       "      <td>191141.0</td>\n",
       "      <td>3.6</td>\n",
       "      <td>0.07</td>\n",
       "      <td>3347.843</td>\n",
       "      <td>21.500000</td>\n",
       "      <td>32.520000</td>\n",
       "      <td>11.020000</td>\n",
       "      <td>1.0</td>\n",
       "    </tr>\n",
       "    <tr>\n",
       "      <th>948</th>\n",
       "      <td>12/31/2022</td>\n",
       "      <td>2/27/2023</td>\n",
       "      <td>U</td>\n",
       "      <td>19.918427</td>\n",
       "      <td>139928000</td>\n",
       "      <td>274111000.0</td>\n",
       "      <td>3.125959</td>\n",
       "      <td>22.129363</td>\n",
       "      <td>NaN</td>\n",
       "      <td>19.740416</td>\n",
       "      <td>...</td>\n",
       "      <td>58.8</td>\n",
       "      <td>-0.1566</td>\n",
       "      <td>188009.0</td>\n",
       "      <td>3.6</td>\n",
       "      <td>0.88</td>\n",
       "      <td>3185.640</td>\n",
       "      <td>29.639999</td>\n",
       "      <td>29.709999</td>\n",
       "      <td>0.070000</td>\n",
       "      <td>1.0</td>\n",
       "    </tr>\n",
       "  </tbody>\n",
       "</table>\n",
       "<p>949 rows × 24 columns</p>\n",
       "</div>"
      ],
      "text/plain": [
       "           Date  filingDate  Name  totalRevenue  costofGoodsAndServicesSold  \\\n",
       "0     4/29/2018   5/22/2018  NVDA     21.888602                  1139000000   \n",
       "1     7/29/2018   8/16/2018  NVDA     21.862060                  1148000000   \n",
       "2    10/28/2018  11/15/2018  NVDA     21.880461                  1260000000   \n",
       "3     1/27/2019   2/21/2019  NVDA     21.513993                   998000000   \n",
       "4     4/28/2019   5/16/2019  NVDA     21.520773                   924000000   \n",
       "..          ...         ...   ...           ...                         ...   \n",
       "944  12/31/2021   2/22/2022     U     19.569286                    73654000   \n",
       "945   3/31/2022   5/10/2022     U     19.580749                    93833000   \n",
       "946   6/30/2022    8/9/2022     U     19.505600                    96836000   \n",
       "947   9/30/2022   11/9/2022     U     19.589273                   111903000   \n",
       "948  12/31/2022   2/27/2023     U     19.918427                   139928000   \n",
       "\n",
       "     researchAndDevelopment  totalAssets  totalLiabilities     inventory  \\\n",
       "0               542000000.0     3.142519         22.043153  7.970000e+08   \n",
       "1               581000000.0     3.147556         22.131077  1.090000e+09   \n",
       "2               605000000.0     3.150062         22.154055  1.417000e+09   \n",
       "3               647000000.0     3.148901         22.096981  1.575000e+09   \n",
       "4               674000000.0     3.151189         22.185827  1.426000e+09   \n",
       "..                      ...          ...               ...           ...   \n",
       "944             209066000.0     3.104604         21.618129           NaN   \n",
       "945             221040000.0     3.105575         21.672991           NaN   \n",
       "946             215960000.0     3.104595         21.662492           NaN   \n",
       "947             248380000.0     3.103535         21.649111           NaN   \n",
       "948             274111000.0     3.125959         22.129363           NaN   \n",
       "\n",
       "     commonStockSharesOutstanding  ...  Cons_Sent  Fin_Stress  Cash_On_Hand  \\\n",
       "0                       20.222391  ...       98.3     -0.1825      136813.0   \n",
       "1                       20.224039  ...       98.1     -0.6204      134561.0   \n",
       "2                       20.227329  ...       98.1     -0.1487      139445.0   \n",
       "3                       20.222391  ...       94.5     -0.3621      123508.0   \n",
       "4                       20.224039  ...       98.5     -0.5130      126995.0   \n",
       "..                            ...  ...        ...         ...           ...   \n",
       "944                     19.494290  ...       69.9     -0.6983      260115.0   \n",
       "945                     19.505353  ...       63.1     -0.4063      255821.0   \n",
       "946                     19.512698  ...       57.9     -0.1295      199421.0   \n",
       "947                     19.521251  ...       56.1     -0.2758      191141.0   \n",
       "948                     19.740416  ...       58.8     -0.1566      188009.0   \n",
       "\n",
       "     Unemployment_Rate  Recession_probability  Corporate_Profits  \\\n",
       "0                  3.9                   0.10           2258.834   \n",
       "1                  3.8                   0.11           2274.868   \n",
       "2                  3.8                   0.23           2295.174   \n",
       "3                  3.9                   0.73           2254.933   \n",
       "4                  3.6                   0.47           2311.300   \n",
       "..                 ...                    ...                ...   \n",
       "944                4.2                   0.11           3190.746   \n",
       "945                3.8                   0.13           3328.491   \n",
       "946                3.6                   0.19           3521.785   \n",
       "947                3.6                   0.07           3347.843   \n",
       "948                3.6                   0.88           3185.640   \n",
       "\n",
       "     initialPrice  finalPrice      delta  classification  \n",
       "0       60.089935   61.363354   1.273418             1.0  \n",
       "1       63.778820   61.400501  -2.378319             0.0  \n",
       "2       50.168041   35.867950 -14.300091             0.0  \n",
       "3       38.650589   39.375122   0.724533             1.0  \n",
       "4       39.788277   37.691933  -2.096344             0.0  \n",
       "..            ...         ...        ...             ...  \n",
       "944     96.150002  103.180000   7.029999             1.0  \n",
       "945     48.130001   35.090000 -13.040001             0.0  \n",
       "946     50.349998   54.250000   3.900002             1.0  \n",
       "947     21.500000   32.520000  11.020000             1.0  \n",
       "948     29.639999   29.709999   0.070000             1.0  \n",
       "\n",
       "[949 rows x 24 columns]"
      ]
     },
     "metadata": {},
     "execution_count": 20
    }
   ],
   "metadata": {}
  },
  {
   "cell_type": "code",
   "execution_count": 21,
   "source": [
    "plt.hist(df['GDP'])\n",
    "# df['GDP'] = np.log(df['GDP'])\n",
    "# plt.hist(df['GDP'])"
   ],
   "outputs": [
    {
     "output_type": "execute_result",
     "data": {
      "text/plain": [
       "(array([ 71., 124., 232.,  97.,  50.,  50.,  50., 100.,  72., 103.]),\n",
       " array([19636.731 , 20286.8571, 20936.9832, 21587.1093, 22237.2354,\n",
       "        22887.3615, 23537.4876, 24187.6137, 24837.7398, 25487.8659,\n",
       "        26137.992 ]),\n",
       " <BarContainer object of 10 artists>)"
      ]
     },
     "metadata": {},
     "execution_count": 21
    },
    {
     "output_type": "display_data",
     "data": {
      "image/png": "[encoded data removed]",
      "text/plain": [
       "<Figure size 640x480 with 1 Axes>"
      ]
     },
     "metadata": {}
    }
   ],
   "metadata": {}
  },
  {
   "cell_type": "code",
   "execution_count": 22,
   "source": [
    "plt.hist(df['Interest'])\n",
    "# df['Interest'] = np.log(df['Interest'])\n",
    "# plt.hist(df['Interest'])"
   ],
   "outputs": [
    {
     "output_type": "execute_result",
     "data": {
      "text/plain": [
       "(array([ 99., 197.,  97., 191.,   0.,  42., 124., 124.,   0.,  75.]),\n",
       " array([-0.36527181, -0.15193895,  0.0613939 ,  0.27472675,  0.48805961,\n",
       "         0.70139246,  0.91472532,  1.12805818,  1.34139103,  1.55472389,\n",
       "         1.76805674]),\n",
       " <BarContainer object of 10 artists>)"
      ]
     },
     "metadata": {},
     "execution_count": 22
    },
    {
     "output_type": "display_data",
     "data": {
      "image/png": "[encoded data removed]",
      "text/plain": [
       "<Figure size 640x480 with 1 Axes>"
      ]
     },
     "metadata": {}
    }
   ],
   "metadata": {}
  },
  {
   "cell_type": "code",
   "execution_count": 23,
   "source": [
    "plt.hist(df[:20]['GDP'])"
   ],
   "outputs": [
    {
     "output_type": "execute_result",
     "data": {
      "text/plain": [
       "(array([1., 3., 5., 2., 1., 1., 1., 2., 2., 2.]),\n",
       " array([19636.731 , 20286.8571, 20936.9832, 21587.1093, 22237.2354,\n",
       "        22887.3615, 23537.4876, 24187.6137, 24837.7398, 25487.8659,\n",
       "        26137.992 ]),\n",
       " <BarContainer object of 10 artists>)"
      ]
     },
     "metadata": {},
     "execution_count": 23
    },
    {
     "output_type": "display_data",
     "data": {
      "image/png": "[encoded data removed]",
      "text/plain": [
       "<Figure size 640x480 with 1 Axes>"
      ]
     },
     "metadata": {}
    }
   ],
   "metadata": {}
  },
  {
   "cell_type": "code",
   "execution_count": 24,
   "source": [
    "df[:20]['GDP'].describe"
   ],
   "outputs": [
    {
     "output_type": "execute_result",
     "data": {
      "text/plain": [
       "<bound method NDFrame.describe of 0     20470.19700\n",
       "1     20687.27800\n",
       "2     20819.26900\n",
       "3     21013.08500\n",
       "4     21272.44800\n",
       "5     21531.83900\n",
       "6     21706.53200\n",
       "7     21538.03200\n",
       "8     19636.73100\n",
       "9     21362.42800\n",
       "10    21704.70600\n",
       "11    22313.85000\n",
       "12    23046.93400\n",
       "13    23550.42000\n",
       "14    24349.12100\n",
       "15    24740.48000\n",
       "16    25248.47600\n",
       "17    25723.94100\n",
       "18    26137.99200\n",
       "19    25283.50041\n",
       "Name: GDP, dtype: float64>"
      ]
     },
     "metadata": {},
     "execution_count": 24
    }
   ],
   "metadata": {}
  },
  {
   "cell_type": "code",
   "execution_count": 25,
   "source": [
    "df[:20]['GDP'].describe()"
   ],
   "outputs": [
    {
     "output_type": "execute_result",
     "data": {
      "text/plain": [
       "count       20.000000\n",
       "mean     22606.862970\n",
       "std       1988.710928\n",
       "min      19636.731000\n",
       "25%      21207.607250\n",
       "50%      21705.619000\n",
       "75%      24446.960750\n",
       "max      26137.992000\n",
       "Name: GDP, dtype: float64"
      ]
     },
     "metadata": {},
     "execution_count": 25
    }
   ],
   "metadata": {}
  },
  {
   "cell_type": "code",
   "execution_count": 26,
   "source": [
    "# Hasn't been run yet\n",
    "plt.hist(df['GDP'])\n",
    "#Normalize the data for GDP and replace the column\n",
    "#Use the z-score method\n",
    "dat = pd.DataFrame()\n",
    "dat['GDP'] = (df['GDP'] - df['GDP'].mean())/df['GDP'].std()"
   ],
   "outputs": [
    {
     "output_type": "display_data",
     "data": {
      "image/png": "[encoded data removed]",
      "text/plain": [
       "<Figure size 640x480 with 1 Axes>"
      ]
     },
     "metadata": {}
    }
   ],
   "metadata": {}
  },
  {
   "cell_type": "code",
   "execution_count": 27,
   "source": [
    "plt.hist(dat['GDP'])"
   ],
   "outputs": [
    {
     "output_type": "execute_result",
     "data": {
      "text/plain": [
       "(array([ 71., 124., 232.,  97.,  50.,  50.,  50., 100.,  72., 103.]),\n",
       " array([-1.50901277, -1.17431023, -0.83960768, -0.50490514, -0.17020259,\n",
       "         0.16449995,  0.4992025 ,  0.83390504,  1.16860759,  1.50331013,\n",
       "         1.83801267]),\n",
       " <BarContainer object of 10 artists>)"
      ]
     },
     "metadata": {},
     "execution_count": 27
    },
    {
     "output_type": "display_data",
     "data": {
      "image/png": "[encoded data removed]",
      "text/plain": [
       "<Figure size 640x480 with 1 Axes>"
      ]
     },
     "metadata": {}
    }
   ],
   "metadata": {}
  },
  {
   "cell_type": "code",
   "execution_count": 28,
   "source": [
    "df['GDP'] = dat['GDP']"
   ],
   "outputs": [],
   "metadata": {}
  },
  {
   "cell_type": "code",
   "execution_count": 29,
   "source": [
    "df['GDP']"
   ],
   "outputs": [
    {
     "output_type": "execute_result",
     "data": {
      "text/plain": [
       "0     -1.079922\n",
       "1     -0.968163\n",
       "2     -0.900210\n",
       "3     -0.800428\n",
       "4     -0.666901\n",
       "         ...   \n",
       "944    0.917053\n",
       "945    1.118536\n",
       "946    1.380066\n",
       "947    1.624848\n",
       "948    1.838013\n",
       "Name: GDP, Length: 949, dtype: float64"
      ]
     },
     "metadata": {},
     "execution_count": 29
    }
   ],
   "metadata": {}
  },
  {
   "cell_type": "code",
   "execution_count": 30,
   "source": [
    "plt.hist(df['Interest'])\n",
    "# df['Interest'] = (df['Interest'] - df['Interest'].mean())/df['Interest'].std()\n",
    "# plt.hist(df['Interest'])"
   ],
   "outputs": [
    {
     "output_type": "execute_result",
     "data": {
      "text/plain": [
       "(array([ 99., 197.,  97., 191.,   0.,  42., 124., 124.,   0.,  75.]),\n",
       " array([-0.36527181, -0.15193895,  0.0613939 ,  0.27472675,  0.48805961,\n",
       "         0.70139246,  0.91472532,  1.12805818,  1.34139103,  1.55472389,\n",
       "         1.76805674]),\n",
       " <BarContainer object of 10 artists>)"
      ]
     },
     "metadata": {},
     "execution_count": 30
    },
    {
     "output_type": "display_data",
     "data": {
      "image/png": "[encoded data removed]",
      "text/plain": [
       "<Figure size 640x480 with 1 Axes>"
      ]
     },
     "metadata": {}
    }
   ],
   "metadata": {}
  },
  {
   "cell_type": "code",
   "execution_count": 31,
   "source": [
    "plt.hist(df[0:20]['Interest'])\n",
    "# df['Interest'] = (df['Interest'] - df['Interest'].mean())/df['Interest'].std()\n",
    "# plt.hist(df['Interest'])"
   ],
   "outputs": [
    {
     "output_type": "execute_result",
     "data": {
      "text/plain": [
       "(array([2., 4., 2., 4., 0., 1., 2., 3., 0., 2.]),\n",
       " array([-0.36527181, -0.15193895,  0.0613939 ,  0.27472675,  0.48805961,\n",
       "         0.70139246,  0.91472532,  1.12805818,  1.34139103,  1.55472389,\n",
       "         1.76805674]),\n",
       " <BarContainer object of 10 artists>)"
      ]
     },
     "metadata": {},
     "execution_count": 31
    },
    {
     "output_type": "display_data",
     "data": {
      "image/png": "[encoded data removed]",
      "text/plain": [
       "<Figure size 640x480 with 1 Axes>"
      ]
     },
     "metadata": {}
    }
   ],
   "metadata": {}
  },
  {
   "cell_type": "code",
   "execution_count": 32,
   "source": [
    "temp = 'Inflation'\n",
    "plt.hist(df[0:20][temp])\n",
    "# df[temp] = (df[temp] - df[temp].mean())/df[temp].std()\n",
    "# plt.hist(df[temp])"
   ],
   "outputs": [
    {
     "output_type": "execute_result",
     "data": {
      "text/plain": [
       "(array([ 2., 10.,  2.,  1.,  0.,  1.,  1.,  0.,  1.,  2.]),\n",
       " array([1.58366833, 2.07863319, 2.57359805, 3.06856291, 3.56352777,\n",
       "        4.05849263, 4.55345749, 5.04842235, 5.54338721, 6.03835207,\n",
       "        6.53331693]),\n",
       " <BarContainer object of 10 artists>)"
      ]
     },
     "metadata": {},
     "execution_count": 32
    },
    {
     "output_type": "display_data",
     "data": {
      "image/png": "[encoded data removed]",
      "text/plain": [
       "<Figure size 640x480 with 1 Axes>"
      ]
     },
     "metadata": {}
    }
   ],
   "metadata": {}
  },
  {
   "cell_type": "code",
   "execution_count": 33,
   "source": [
    "temp = 'Inflation'\n",
    "# plt.hist(df[0:20][temp])\n",
    "df[temp] = (df[temp] - df[temp].mean())/df[temp].std()\n",
    "plt.hist(df[temp])"
   ],
   "outputs": [
    {
     "output_type": "execute_result",
     "data": {
      "text/plain": [
       "(array([100., 480.,  94.,  50.,   0.,  50.,  50.,   0.,  50.,  75.]),\n",
       " array([-1.08149198, -0.74092613, -0.40036028, -0.05979443,  0.28077142,\n",
       "         0.62133727,  0.96190311,  1.30246896,  1.64303481,  1.98360066,\n",
       "         2.32416651]),\n",
       " <BarContainer object of 10 artists>)"
      ]
     },
     "metadata": {},
     "execution_count": 33
    },
    {
     "output_type": "display_data",
     "data": {
      "image/png": "[encoded data removed]",
      "text/plain": [
       "<Figure size 640x480 with 1 Axes>"
      ]
     },
     "metadata": {}
    }
   ],
   "metadata": {}
  },
  {
   "cell_type": "code",
   "execution_count": 34,
   "source": [
    "temp = 'SP'\n",
    "plt.hist(df[0:20][temp])\n",
    "# df[temp] = (df[temp] - df[temp].mean())/df[temp].std()\n",
    "# plt.hist(df[temp])"
   ],
   "outputs": [
    {
     "output_type": "execute_result",
     "data": {
      "text/plain": [
       "(array([5., 3., 1., 1., 1., 0., 4., 2., 0., 3.]),\n",
       " array([2698.93 , 2889.248, 3079.566, 3269.884, 3460.202, 3650.52 ,\n",
       "        3840.838, 4031.156, 4221.474, 4411.792, 4602.11 ]),\n",
       " <BarContainer object of 10 artists>)"
      ]
     },
     "metadata": {},
     "execution_count": 34
    },
    {
     "output_type": "display_data",
     "data": {
      "image/png": "[encoded data removed]",
      "text/plain": [
       "<Figure size 640x480 with 1 Axes>"
      ]
     },
     "metadata": {}
    }
   ],
   "metadata": {}
  },
  {
   "cell_type": "code",
   "execution_count": 35,
   "source": [
    "temp = 'SP'\n",
    "#plt.hist(df[0:20][temp])\n",
    "df[temp] = (df[temp] - df[temp].mean())/df[temp].std()\n",
    "plt.hist(df[temp])"
   ],
   "outputs": [
    {
     "output_type": "execute_result",
     "data": {
      "text/plain": [
       "(array([237., 141.,  47.,  49.,  50.,   0., 175., 100.,   0., 150.]),\n",
       " array([-1.2597693 , -0.96585038, -0.67193145, -0.37801252, -0.08409359,\n",
       "         0.20982534,  0.50374426,  0.79766319,  1.09158212,  1.38550105,\n",
       "         1.67941998]),\n",
       " <BarContainer object of 10 artists>)"
      ]
     },
     "metadata": {},
     "execution_count": 35
    },
    {
     "output_type": "display_data",
     "data": {
      "image/png": "[encoded data removed]",
      "text/plain": [
       "<Figure size 640x480 with 1 Axes>"
      ]
     },
     "metadata": {}
    }
   ],
   "metadata": {}
  },
  {
   "cell_type": "code",
   "execution_count": 36,
   "source": [
    "temp = 'Cons_Sent'\n",
    "plt.hist(df[0:20][temp])\n",
    "# df[temp] = (df[temp] - df[temp].mean())/df[temp].std()\n",
    "# plt.hist(df[temp])"
   ],
   "outputs": [
    {
     "output_type": "execute_result",
     "data": {
      "text/plain": [
       "(array([3., 2., 0., 1., 3., 2., 1., 0., 1., 7.]),\n",
       " array([56.1 , 60.34, 64.58, 68.82, 73.06, 77.3 , 81.54, 85.78, 90.02,\n",
       "        94.26, 98.5 ]),\n",
       " <BarContainer object of 10 artists>)"
      ]
     },
     "metadata": {},
     "execution_count": 36
    },
    {
     "output_type": "display_data",
     "data": {
      "image/png": "[encoded data removed]",
      "text/plain": [
       "<Figure size 640x480 with 1 Axes>"
      ]
     },
     "metadata": {}
    }
   ],
   "metadata": {}
  },
  {
   "cell_type": "code",
   "execution_count": 37,
   "source": [
    "df[0:20][temp].describe()"
   ],
   "outputs": [
    {
     "output_type": "execute_result",
     "data": {
      "text/plain": [
       "count    20.000000\n",
       "mean     80.616322\n",
       "std      15.657114\n",
       "min      56.100000\n",
       "25%      68.200000\n",
       "50%      80.000000\n",
       "75%      96.750000\n",
       "max      98.500000\n",
       "Name: Cons_Sent, dtype: float64"
      ]
     },
     "metadata": {},
     "execution_count": 37
    }
   ],
   "metadata": {}
  },
  {
   "cell_type": "code",
   "execution_count": 38,
   "source": [
    "temp = 'Cons_Sent'\n",
    "# plt.hist(df[0:20][temp])\n",
    "df[temp] = (df[temp] - df[temp].mean())/df[temp].std()\n",
    "plt.hist(df[temp])"
   ],
   "outputs": [
    {
     "output_type": "execute_result",
     "data": {
      "text/plain": [
       "(array([153.,  72.,   0.,  50., 146., 100.,  50.,   0.,  89., 289.]),\n",
       " array([-1.62563351, -1.34404668, -1.06245985, -0.78087302, -0.49928619,\n",
       "        -0.21769936,  0.06388747,  0.34547429,  0.62706112,  0.90864795,\n",
       "         1.19023478]),\n",
       " <BarContainer object of 10 artists>)"
      ]
     },
     "metadata": {},
     "execution_count": 38
    },
    {
     "output_type": "display_data",
     "data": {
      "image/png": "[encoded data removed]",
      "text/plain": [
       "<Figure size 640x480 with 1 Axes>"
      ]
     },
     "metadata": {}
    }
   ],
   "metadata": {}
  },
  {
   "cell_type": "code",
   "execution_count": 39,
   "source": [
    "temp = 'Fin_Stress'\n",
    "plt.hist(df[0:20][temp])\n",
    "# df[temp] = (df[temp] - df[temp].mean())/df[temp].std()\n",
    "# plt.hist(df[temp])"
   ],
   "outputs": [
    {
     "output_type": "execute_result",
     "data": {
      "text/plain": [
       "(array([2., 3., 3., 8., 2., 0., 0., 0., 0., 2.]),\n",
       " array([-0.9187, -0.7221, -0.5255, -0.3289, -0.1323,  0.0643,  0.2609,\n",
       "         0.4575,  0.6541,  0.8507,  1.0473]),\n",
       " <BarContainer object of 10 artists>)"
      ]
     },
     "metadata": {},
     "execution_count": 39
    },
    {
     "output_type": "display_data",
     "data": {
      "image/png": "[encoded data removed]",
      "text/plain": [
       "<Figure size 640x480 with 1 Axes>"
      ]
     },
     "metadata": {}
    }
   ],
   "metadata": {}
  },
  {
   "cell_type": "code",
   "execution_count": 40,
   "source": [
    "temp = 'Cash_On_Hand'\n",
    "plt.hist(df[0:20][temp])\n",
    "# df[temp] = (df[temp] - df[temp].mean())/df[temp].std()\n",
    "# plt.hist(df[temp])"
   ],
   "outputs": [
    {
     "output_type": "execute_result",
     "data": {
      "text/plain": [
       "(array([4., 2., 1., 1., 2., 1., 1., 1., 1., 6.]),\n",
       " array([120227. , 135243.5, 150260. , 165276.5, 180293. , 195309.5,\n",
       "        210326. , 225342.5, 240359. , 255375.5, 270392. ]),\n",
       " <BarContainer object of 10 artists>)"
      ]
     },
     "metadata": {},
     "execution_count": 40
    },
    {
     "output_type": "display_data",
     "data": {
      "image/png": "[encoded data removed]",
      "text/plain": [
       "<Figure size 640x480 with 1 Axes>"
      ]
     },
     "metadata": {}
    }
   ],
   "metadata": {}
  },
  {
   "cell_type": "code",
   "execution_count": 42,
   "source": [
    "df[0:20][temp].describe()"
   ],
   "outputs": [
    {
     "output_type": "execute_result",
     "data": {
      "text/plain": [
       "count        20.000000\n",
       "mean     198213.860505\n",
       "std       56132.084767\n",
       "min      120227.000000\n",
       "25%      138787.000000\n",
       "50%      195281.000000\n",
       "75%      255905.052525\n",
       "max      270392.000000\n",
       "Name: Cash_On_Hand, dtype: float64"
      ]
     },
     "metadata": {},
     "execution_count": 42
    }
   ],
   "metadata": {}
  },
  {
   "cell_type": "code",
   "execution_count": 43,
   "source": [
    "temp = 'Cash_On_Hand'\n",
    "#plt.hist(df[0:20][temp])\n",
    "df[temp] = (df[temp] - df[temp].mean())/df[temp].std()\n",
    "plt.hist(df[temp])"
   ],
   "outputs": [
    {
     "output_type": "execute_result",
     "data": {
      "text/plain": [
       "(array([177.,  83.,  71.,  47., 103.,  50.,  49.,  47.,  50., 272.]),\n",
       " array([-1.44822796, -1.16954175, -0.89085554, -0.61216932, -0.33348311,\n",
       "        -0.0547969 ,  0.22388931,  0.50257553,  0.78126174,  1.05994795,\n",
       "         1.33863416]),\n",
       " <BarContainer object of 10 artists>)"
      ]
     },
     "metadata": {},
     "execution_count": 43
    },
    {
     "output_type": "display_data",
     "data": {
      "image/png": "[encoded data removed]",
      "text/plain": [
       "<Figure size 640x480 with 1 Axes>"
      ]
     },
     "metadata": {}
    }
   ],
   "metadata": {}
  },
  {
   "cell_type": "code",
   "execution_count": 44,
   "source": [
    "temp = 'Unemployment_Rate'\n",
    "plt.hist(df[0:20][temp])\n",
    "# df[temp] = (df[temp] - df[temp].mean())/df[temp].std()\n",
    "# plt.hist(df[temp])"
   ],
   "outputs": [
    {
     "output_type": "execute_result",
     "data": {
      "text/plain": [
       "(array([14.,  1.,  2.,  1.,  0.,  1.,  0.,  0.,  0.,  1.]),\n",
       " array([ 3.5 ,  4.45,  5.4 ,  6.35,  7.3 ,  8.25,  9.2 , 10.15, 11.1 ,\n",
       "        12.05, 13.  ]),\n",
       " <BarContainer object of 10 artists>)"
      ]
     },
     "metadata": {},
     "execution_count": 44
    },
    {
     "output_type": "display_data",
     "data": {
      "image/png": "[encoded data removed]",
      "text/plain": [
       "<Figure size 640x480 with 1 Axes>"
      ]
     },
     "metadata": {}
    }
   ],
   "metadata": {}
  },
  {
   "cell_type": "code",
   "execution_count": 45,
   "source": [
    "temp = 'Unemployment_Rate'\n",
    "#plt.hist(df[0:20][temp])\n",
    "#Use log scaling to normalize the data for Unemployment_Rate and replace the column\n",
    "df[temp] = np.log(df[temp])\n",
    "# df[temp] = (df[temp] - df[temp].mean())/df[temp].std()\n",
    "plt.hist(df[temp])"
   ],
   "outputs": [
    {
     "output_type": "execute_result",
     "data": {
      "text/plain": [
       "(array([579.,  74.,  50.,  50.,  50.,  50.,   0.,  49.,   0.,  47.]),\n",
       " array([1.25276297, 1.38398161, 1.51520025, 1.64641889, 1.77763752,\n",
       "        1.90885616, 2.0400748 , 2.17129344, 2.30251208, 2.43373072,\n",
       "        2.56494936]),\n",
       " <BarContainer object of 10 artists>)"
      ]
     },
     "metadata": {},
     "execution_count": 45
    },
    {
     "output_type": "display_data",
     "data": {
      "image/png": "[encoded data removed]",
      "text/plain": [
       "<Figure size 640x480 with 1 Axes>"
      ]
     },
     "metadata": {}
    }
   ],
   "metadata": {}
  },
  {
   "cell_type": "code",
   "execution_count": 46,
   "source": [
    "temp = 'Recession_probability'\n",
    "plt.hist(df[0:20][temp])\n",
    "# df[temp] = (df[temp] - df[temp].mean())/df[temp].std()\n",
    "# plt.hist(df[temp])"
   ],
   "outputs": [
    {
     "output_type": "execute_result",
     "data": {
      "text/plain": [
       "(array([17.,  1.,  0.,  0.,  0.,  0.,  0.,  0.,  0.,  2.]),\n",
       " array([ 0.   ,  3.345,  6.69 , 10.035, 13.38 , 16.725, 20.07 , 23.415,\n",
       "        26.76 , 30.105, 33.45 ]),\n",
       " <BarContainer object of 10 artists>)"
      ]
     },
     "metadata": {},
     "execution_count": 46
    },
    {
     "output_type": "display_data",
     "data": {
      "image/png": "[encoded data removed]",
      "text/plain": [
       "<Figure size 640x480 with 1 Axes>"
      ]
     },
     "metadata": {}
    }
   ],
   "metadata": {}
  },
  {
   "cell_type": "code",
   "execution_count": 48,
   "source": [
    "df['Recession_probability']"
   ],
   "outputs": [
    {
     "output_type": "execute_result",
     "data": {
      "text/plain": [
       "0     -2.302585\n",
       "1     -2.207275\n",
       "2     -1.469676\n",
       "3     -0.314711\n",
       "4     -0.755023\n",
       "         ...   \n",
       "944   -2.207275\n",
       "945   -2.040221\n",
       "946   -1.660731\n",
       "947   -2.659260\n",
       "948   -0.127833\n",
       "Name: Recession_probability, Length: 949, dtype: float64"
      ]
     },
     "metadata": {},
     "execution_count": 48
    }
   ],
   "metadata": {}
  },
  {
   "cell_type": "code",
   "execution_count": 49,
   "source": [
    "df['Recession_probability'][0:20]"
   ],
   "outputs": [
    {
     "output_type": "execute_result",
     "data": {
      "text/plain": [
       "0    -2.302585\n",
       "1    -2.207275\n",
       "2    -1.469676\n",
       "3    -0.314711\n",
       "4    -0.755023\n",
       "5    -1.049822\n",
       "6    -0.342490\n",
       "7     3.510052\n",
       "8     3.507058\n",
       "9    -3.912023\n",
       "10   -1.560648\n",
       "11        -inf\n",
       "12   -1.897120\n",
       "13   -1.714798\n",
       "14   -2.207275\n",
       "15   -2.040221\n",
       "16   -1.660731\n",
       "17   -2.659260\n",
       "18   -0.127833\n",
       "19    1.331687\n",
       "Name: Recession_probability, dtype: float64"
      ]
     },
     "metadata": {},
     "execution_count": 49
    }
   ],
   "metadata": {}
  },
  {
   "cell_type": "code",
   "execution_count": 52,
   "source": [
    "df['Unemployment_Rate']"
   ],
   "outputs": [
    {
     "output_type": "execute_result",
     "data": {
      "text/plain": [
       "0      1.360977\n",
       "1      1.335001\n",
       "2      1.335001\n",
       "3      1.360977\n",
       "4      1.280934\n",
       "         ...   \n",
       "944    1.435085\n",
       "945    1.335001\n",
       "946    1.280934\n",
       "947    1.280934\n",
       "948    1.280934\n",
       "Name: Unemployment_Rate, Length: 949, dtype: float64"
      ]
     },
     "metadata": {},
     "execution_count": 52
    }
   ],
   "metadata": {}
  },
  {
   "cell_type": "code",
   "execution_count": 53,
   "source": [
    "temp = 'Recession_probability'\n",
    "plt.hist(df[0:20][temp])\n",
    "# df[temp] = np.log(df[temp])\n",
    "# plt.hist(df[temp])"
   ],
   "outputs": [
    {
     "output_type": "execute_result",
     "data": {
      "text/plain": [
       "(array([18.,  0.,  0.,  0.,  0.,  0.,  0.,  0.,  0.,  2.]),\n",
       " array([   0.        ,  323.63224551,  647.26449101,  970.89673652,\n",
       "        1294.52898203, 1618.16122753, 1941.79347304, 2265.42571855,\n",
       "        2589.05796405, 2912.69020956, 3236.32245507]),\n",
       " <BarContainer object of 10 artists>)"
      ]
     },
     "metadata": {},
     "execution_count": 53
    },
    {
     "output_type": "display_data",
     "data": {
      "image/png": "[encoded data removed]",
      "text/plain": [
       "<Figure size 640x480 with 1 Axes>"
      ]
     },
     "metadata": {}
    }
   ],
   "metadata": {}
  },
  {
   "cell_type": "code",
   "execution_count": 54,
   "source": [
    "df[temp] = 10**df[temp]"
   ],
   "outputs": [],
   "metadata": {}
  },
  {
   "cell_type": "code",
   "execution_count": 56,
   "source": [
    "temp = 'Corporate_Profits'\n",
    "plt.hist(df[0:20][temp])"
   ],
   "outputs": [
    {
     "output_type": "execute_result",
     "data": {
      "text/plain": [
       "(array([2., 6., 1., 1., 1., 1., 0., 4., 3., 1.]),\n",
       " array([2078.07  , 2222.4415, 2366.813 , 2511.1845, 2655.556 , 2799.9275,\n",
       "        2944.299 , 3088.6705, 3233.042 , 3377.4135, 3521.785 ]),\n",
       " <BarContainer object of 10 artists>)"
      ]
     },
     "metadata": {},
     "execution_count": 56
    },
    {
     "output_type": "display_data",
     "data": {
      "image/png": "[encoded data removed]",
      "text/plain": [
       "<Figure size 640x480 with 1 Axes>"
      ]
     },
     "metadata": {}
    }
   ],
   "metadata": {}
  },
  {
   "cell_type": "code",
   "execution_count": 57,
   "source": [
    "temp = 'Corporate_Profits'\n",
    "plt.hist(df[0:20][temp])\n",
    "df[temp] = (df[temp] - df[temp].mean())/df[temp].std()\n",
    "plt.hist(df[temp])"
   ],
   "outputs": [
    {
     "output_type": "execute_result",
     "data": {
      "text/plain": [
       "(array([118., 260.,  47.,  50.,  49.,  50.,   0., 203., 122.,  50.]),\n",
       " array([-1.36725836, -1.06975407, -0.77224979, -0.4747455 , -0.17724121,\n",
       "         0.12026308,  0.41776737,  0.71527165,  1.01277594,  1.31028023,\n",
       "         1.60778452]),\n",
       " <BarContainer object of 10 artists>)"
      ]
     },
     "metadata": {},
     "execution_count": 57
    },
    {
     "output_type": "display_data",
     "data": {
      "image/png": "[encoded data removed]",
      "text/plain": [
       "<Figure size 640x480 with 1 Axes>"
      ]
     },
     "metadata": {}
    }
   ],
   "metadata": {}
  },
  {
   "cell_type": "code",
   "execution_count": 58,
   "source": [
    "df[temp].describe()"
   ],
   "outputs": [
    {
     "output_type": "execute_result",
     "data": {
      "text/plain": [
       "count    9.490000e+02\n",
       "mean    -3.107221e-16\n",
       "std      1.000000e+00\n",
       "min     -1.367258e+00\n",
       "25%     -9.736571e-01\n",
       "50%     -2.589453e-01\n",
       "75%      9.639892e-01\n",
       "max      1.607785e+00\n",
       "Name: Corporate_Profits, dtype: float64"
      ]
     },
     "metadata": {},
     "execution_count": 58
    }
   ],
   "metadata": {}
  }
 ],
 "nbformat": 4,
 "nbformat_minor": 2,
 "metadata": {
  "language_info": {
   "codemirror_mode": {
    "name": "ipython",
    "version": 3
   },
   "file_extension": ".py",
   "mimetype": "text/x-python",
   "name": "python",
   "nbconvert_exporter": "python",
   "pygments_lexer": "ipython3",
   "version": 3
  },
  "orig_nbformat": 4
 }
}